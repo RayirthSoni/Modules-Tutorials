{
 "cells": [
  {
   "cell_type": "code",
   "execution_count": 1,
   "metadata": {},
   "outputs": [],
   "source": [
    "import numpy as np\n",
    "import sys"
   ]
  },
  {
   "cell_type": "markdown",
   "metadata": {},
   "source": [
    "FreeCodeCamp"
   ]
  },
  {
   "cell_type": "markdown",
   "metadata": {},
   "source": [
    "Initializing 1D and 2D numpy array"
   ]
  },
  {
   "cell_type": "code",
   "execution_count": 2,
   "metadata": {},
   "outputs": [
    {
     "name": "stdout",
     "output_type": "stream",
     "text": [
      "[1 2 3]\n"
     ]
    }
   ],
   "source": [
    "a=np.array([1,2,3],dtype='int16')\n",
    "print(a)"
   ]
  },
  {
   "cell_type": "code",
   "execution_count": 3,
   "metadata": {},
   "outputs": [
    {
     "name": "stdout",
     "output_type": "stream",
     "text": [
      "[[9. 8. 7.]\n",
      " [6. 5. 4.]]\n"
     ]
    }
   ],
   "source": [
    "b=np.array([[9.0,8.0,7.0],[6.0,5.0,4.0]])\n",
    "print(b)"
   ]
  },
  {
   "cell_type": "code",
   "execution_count": 4,
   "metadata": {},
   "outputs": [
    {
     "name": "stdout",
     "output_type": "stream",
     "text": [
      "[5 6 7 8 9]\n"
     ]
    }
   ],
   "source": [
    "# here it could be np.int8,np.int16,np.int32,np.int64\n",
    "# here np.int8 --> means 8 bit integer\n",
    "# here np.int16 --> means 16 bit integer\n",
    "# here np.int32 --> means 32 bit integer\n",
    "# here np.int64 --> means 64 bit integer\n",
    "c=np.array([5,6,7,8,9],np.int64)\n",
    "print(c)"
   ]
  },
  {
   "cell_type": "markdown",
   "metadata": {},
   "source": [
    "Some Basic Operations"
   ]
  },
  {
   "cell_type": "code",
   "execution_count": 5,
   "metadata": {},
   "outputs": [
    {
     "name": "stdout",
     "output_type": "stream",
     "text": [
      "1\n",
      "2\n"
     ]
    }
   ],
   "source": [
    "# Get Dimension\n",
    "print(a.ndim)\n",
    "print(b.ndim)"
   ]
  },
  {
   "cell_type": "code",
   "execution_count": 6,
   "metadata": {},
   "outputs": [
    {
     "name": "stdout",
     "output_type": "stream",
     "text": [
      "(3,)\n",
      "(2, 3)\n"
     ]
    }
   ],
   "source": [
    "# Get Shape\n",
    "print(a.shape)\n",
    "print(b.shape)"
   ]
  },
  {
   "cell_type": "code",
   "execution_count": 7,
   "metadata": {},
   "outputs": [
    {
     "name": "stdout",
     "output_type": "stream",
     "text": [
      "3\n",
      "6\n"
     ]
    }
   ],
   "source": [
    "# Get Size\n",
    "print(a.size)\n",
    "print(b.size)"
   ]
  },
  {
   "cell_type": "code",
   "execution_count": 8,
   "metadata": {},
   "outputs": [
    {
     "name": "stdout",
     "output_type": "stream",
     "text": [
      "int16\n",
      "float64\n"
     ]
    }
   ],
   "source": [
    "# Get dtype\n",
    "print(a.dtype)\n",
    "print(b.dtype)"
   ]
  },
  {
   "cell_type": "code",
   "execution_count": 9,
   "metadata": {},
   "outputs": [
    {
     "name": "stdout",
     "output_type": "stream",
     "text": [
      "2\n",
      "8\n"
     ]
    }
   ],
   "source": [
    "# Get Size\n",
    "print(a.itemsize)\n",
    "print(b.itemsize)"
   ]
  },
  {
   "cell_type": "code",
   "execution_count": 10,
   "metadata": {},
   "outputs": [
    {
     "name": "stdout",
     "output_type": "stream",
     "text": [
      "Total Size of a = 6\n",
      "Total Size of a = 6\n",
      "Total Size of b = 48\n",
      "Total Size of b = 48\n"
     ]
    }
   ],
   "source": [
    "# Get Total Size\n",
    "# nbytes = size * itemsize\n",
    "print('Total Size of a =',a.size*a.itemsize)\n",
    "print('Total Size of a =',a.nbytes)\n",
    "print('Total Size of b =',b.size*b.itemsize)\n",
    "print('Total Size of b =',b.nbytes)"
   ]
  },
  {
   "cell_type": "markdown",
   "metadata": {},
   "source": [
    "Accessing/Changing specific elements, rows, columns etc"
   ]
  },
  {
   "cell_type": "code",
   "execution_count": 11,
   "metadata": {},
   "outputs": [
    {
     "name": "stdout",
     "output_type": "stream",
     "text": [
      "[[ 1  2  3  4  5  6  7]\n",
      " [ 8  9 10 11 12 13 14]]\n"
     ]
    }
   ],
   "source": [
    "a = np.array([[1, 2, 3, 4, 5, 6, 7],\n",
    "              [8, 9, 10, 11, 12, 13, 14]])\n",
    "print(a)\n"
   ]
  },
  {
   "cell_type": "code",
   "execution_count": 12,
   "metadata": {},
   "outputs": [
    {
     "name": "stdout",
     "output_type": "stream",
     "text": [
      "13\n",
      "13\n"
     ]
    }
   ],
   "source": [
    "# Get a specific element [r,c]\n",
    "print(a[1,5])\n",
    "print(a[1,-2])"
   ]
  },
  {
   "cell_type": "code",
   "execution_count": 13,
   "metadata": {},
   "outputs": [
    {
     "name": "stdout",
     "output_type": "stream",
     "text": [
      "[1 2 3 4 5 6 7]\n",
      "[ 8  9 10 11 12 13 14]\n"
     ]
    }
   ],
   "source": [
    "# Get a specific row\n",
    "print(a[0,:])\n",
    "print(a[1,:])"
   ]
  },
  {
   "cell_type": "code",
   "execution_count": 14,
   "metadata": {},
   "outputs": [
    {
     "name": "stdout",
     "output_type": "stream",
     "text": [
      "[ 4 11]\n"
     ]
    }
   ],
   "source": [
    "# Get a specific column\n",
    "print(a[:,3])"
   ]
  },
  {
   "cell_type": "code",
   "execution_count": 15,
   "metadata": {},
   "outputs": [
    {
     "name": "stdout",
     "output_type": "stream",
     "text": [
      "[2 4 6]\n",
      "[2 4 6]\n",
      "[2 4 6]\n"
     ]
    }
   ],
   "source": [
    "# Getting a little more fancy [start_index:ending_index:step_size]\n",
    "print(a[0,1:6:2])\n",
    "print(a[0,1:-1:2])\n",
    "print(a[0,-6:-1:2])\n"
   ]
  },
  {
   "cell_type": "code",
   "execution_count": 16,
   "metadata": {},
   "outputs": [
    {
     "name": "stdout",
     "output_type": "stream",
     "text": [
      "[[ 1  2  3  4  5  6  7]\n",
      " [ 8  9 10 11 12 20 14]]\n",
      "[[ 1  2  5  4  5  6  7]\n",
      " [ 8  9  5 11 12 20 14]]\n",
      "[[ 1  2  3  4  5  6  7]\n",
      " [ 8  9 10 11 12 20 14]]\n"
     ]
    }
   ],
   "source": [
    "a[1,5]=20\n",
    "print(a)\n",
    "a[:,2]=5\n",
    "print(a)\n",
    "a[:,2]=[3,10]\n",
    "print(a)"
   ]
  },
  {
   "cell_type": "markdown",
   "metadata": {},
   "source": [
    "3 D Example"
   ]
  },
  {
   "cell_type": "code",
   "execution_count": 17,
   "metadata": {},
   "outputs": [
    {
     "name": "stdout",
     "output_type": "stream",
     "text": [
      "[[[1 2]\n",
      "  [3 4]]\n",
      "\n",
      " [[5 6]\n",
      "  [7 8]]]\n"
     ]
    }
   ],
   "source": [
    "# layers,rows,columns\n",
    "b = np.array([[[1, 2],\n",
    "               [3, 4]],\n",
    "              [[5, 6],\n",
    "               [7, 8]]])\n",
    "print(b)\n"
   ]
  },
  {
   "cell_type": "code",
   "execution_count": 18,
   "metadata": {},
   "outputs": [
    {
     "name": "stdout",
     "output_type": "stream",
     "text": [
      "4\n",
      "[[1 2]\n",
      " [5 6]]\n",
      "[1 2]\n",
      "[1 5]\n"
     ]
    }
   ],
   "source": [
    "# Get Specific element\n",
    "print(b[0,1,1])\n",
    "print(b[:,0,:])\n",
    "print(b[0,0,:])\n",
    "print(b[:,0,0])\n"
   ]
  },
  {
   "cell_type": "code",
   "execution_count": 19,
   "metadata": {},
   "outputs": [
    {
     "name": "stdout",
     "output_type": "stream",
     "text": [
      "[[[1 2]\n",
      "  [9 9]]\n",
      "\n",
      " [[5 6]\n",
      "  [8 8]]]\n"
     ]
    }
   ],
   "source": [
    "b[:,1,:]=[[9,9],[8,8]]\n",
    "print(b)"
   ]
  },
  {
   "cell_type": "markdown",
   "metadata": {},
   "source": [
    "Initializing different types of array"
   ]
  },
  {
   "cell_type": "code",
   "execution_count": 20,
   "metadata": {},
   "outputs": [
    {
     "name": "stdout",
     "output_type": "stream",
     "text": [
      "[0. 0. 0. 0. 0.]\n",
      "[[0. 0. 0.]\n",
      " [0. 0. 0.]]\n"
     ]
    }
   ],
   "source": [
    "# All 0s matrix\n",
    "c=np.zeros(5)\n",
    "print(c)\n",
    "d=np.zeros((2,3))\n",
    "print(d)"
   ]
  },
  {
   "cell_type": "code",
   "execution_count": 21,
   "metadata": {},
   "outputs": [
    {
     "name": "stdout",
     "output_type": "stream",
     "text": [
      "[[[1 1]\n",
      "  [1 1]\n",
      "  [1 1]]\n",
      "\n",
      " [[1 1]\n",
      "  [1 1]\n",
      "  [1 1]]\n",
      "\n",
      " [[1 1]\n",
      "  [1 1]\n",
      "  [1 1]]\n",
      "\n",
      " [[1 1]\n",
      "  [1 1]\n",
      "  [1 1]]]\n"
     ]
    }
   ],
   "source": [
    "# All 1s matrix\n",
    "e=np.ones((4,3,2),dtype='int32')\n",
    "print(e)"
   ]
  },
  {
   "cell_type": "code",
   "execution_count": 22,
   "metadata": {},
   "outputs": [
    {
     "name": "stdout",
     "output_type": "stream",
     "text": [
      "[[99 99]\n",
      " [99 99]]\n"
     ]
    }
   ],
   "source": [
    "# Any other number\n",
    "e=np.full((2,2),99)\n",
    "print(e)"
   ]
  },
  {
   "cell_type": "code",
   "execution_count": 23,
   "metadata": {},
   "outputs": [
    {
     "name": "stdout",
     "output_type": "stream",
     "text": [
      "[[4 4 4 4 4 4 4]\n",
      " [4 4 4 4 4 4 4]]\n"
     ]
    }
   ],
   "source": [
    "# Any other number full_like\n",
    "f=np.full_like(a,4)\n",
    "print(f)"
   ]
  },
  {
   "cell_type": "code",
   "execution_count": 24,
   "metadata": {},
   "outputs": [
    {
     "name": "stdout",
     "output_type": "stream",
     "text": [
      "[[[0.88450465 0.27260376]\n",
      "  [0.49355433 0.31094377]]\n",
      "\n",
      " [[0.1852743  0.79747992]\n",
      "  [0.96562397 0.53316306]]\n",
      "\n",
      " [[0.52374267 0.12849354]\n",
      "  [0.0839712  0.26818782]]\n",
      "\n",
      " [[0.75541885 0.40393461]\n",
      "  [0.63655074 0.8028789 ]]]\n"
     ]
    }
   ],
   "source": [
    "# Random Decimal Numbers\n",
    "g=np.random.rand(4,2,2) # shape pass kari hai basically idhar\n",
    "print(g)"
   ]
  },
  {
   "cell_type": "code",
   "execution_count": 25,
   "metadata": {},
   "outputs": [
    {
     "name": "stdout",
     "output_type": "stream",
     "text": [
      "[[0.80648768 0.68010687 0.43215393 0.99056874 0.40678647 0.11847146\n",
      "  0.0262145 ]\n",
      " [0.3557564  0.4917707  0.18677633 0.35504908 0.88912221 0.52669494\n",
      "  0.48870103]]\n"
     ]
    }
   ],
   "source": [
    "h=np.random.random_sample(a.shape)\n",
    "print(h)"
   ]
  },
  {
   "cell_type": "code",
   "execution_count": 26,
   "metadata": {},
   "outputs": [
    {
     "name": "stdout",
     "output_type": "stream",
     "text": [
      "[[ 6 -7  7]\n",
      " [ 9  0  5]\n",
      " [ 2  2 -8]]\n"
     ]
    }
   ],
   "source": [
    "# Random Integer Values\n",
    "i=np.random.randint(-9,10,size=(3,3))\n",
    "print(i)"
   ]
  },
  {
   "cell_type": "code",
   "execution_count": 27,
   "metadata": {},
   "outputs": [
    {
     "name": "stdout",
     "output_type": "stream",
     "text": [
      "[[1. 0. 0.]\n",
      " [0. 1. 0.]\n",
      " [0. 0. 1.]]\n"
     ]
    }
   ],
   "source": [
    "# Identity Matrix\n",
    "j=np.identity(3)\n",
    "print(j)"
   ]
  },
  {
   "cell_type": "code",
   "execution_count": 28,
   "metadata": {},
   "outputs": [
    {
     "name": "stdout",
     "output_type": "stream",
     "text": [
      "[[1 2 3]\n",
      " [1 2 3]\n",
      " [1 2 3]]\n",
      "[[1 1 1 2 2 2 3 3 3]]\n"
     ]
    }
   ],
   "source": [
    "# Repeat an Array\n",
    "arr=np.array([[1,2,3]])\n",
    "c1=np.repeat(arr,3,axis=0)\n",
    "print(c1)\n",
    "r1=np.repeat(arr,3,axis=1)\n",
    "print(r1)"
   ]
  },
  {
   "cell_type": "code",
   "execution_count": 29,
   "metadata": {},
   "outputs": [
    {
     "name": "stdout",
     "output_type": "stream",
     "text": [
      "[[1. 1. 1. 1. 1.]\n",
      " [1. 1. 1. 1. 1.]\n",
      " [1. 1. 1. 1. 1.]\n",
      " [1. 1. 1. 1. 1.]\n",
      " [1. 1. 1. 1. 1.]]\n",
      "[[0. 0. 0.]\n",
      " [0. 9. 0.]\n",
      " [0. 0. 0.]]\n",
      "[[1. 1. 1. 1. 1.]\n",
      " [1. 0. 0. 0. 1.]\n",
      " [1. 0. 9. 0. 1.]\n",
      " [1. 0. 0. 0. 1.]\n",
      " [1. 1. 1. 1. 1.]]\n"
     ]
    }
   ],
   "source": [
    "arr2=np.ones((5,5))\n",
    "print(arr2)\n",
    "z=np.zeros((3,3))\n",
    "z[1,1]=9\n",
    "print(z)\n",
    "arr2[1:4,1:-1]=z\n",
    "print(arr2)"
   ]
  },
  {
   "cell_type": "code",
   "execution_count": 30,
   "metadata": {},
   "outputs": [
    {
     "name": "stdout",
     "output_type": "stream",
     "text": [
      "[ 1.          5.45454545  9.90909091 14.36363636 18.81818182 23.27272727\n",
      " 27.72727273 32.18181818 36.63636364 41.09090909 45.54545455 50.        ]\n"
     ]
    }
   ],
   "source": [
    "# Linearly spaced elements 1 se 50 tak 12 elements\n",
    "lspace=np.linspace(1,50,12)\n",
    "print(lspace)"
   ]
  },
  {
   "cell_type": "code",
   "execution_count": 31,
   "metadata": {},
   "outputs": [
    {
     "name": "stdout",
     "output_type": "stream",
     "text": [
      "[ 0  1  2  3  4  5  6  7  8  9 10 11 12 13 14 15 16 17 18 19 20 21 22 23\n",
      " 24 25 26 27 28 29 30 31 32 33 34 35 36 37 38 39 40 41 42 43 44 45 46 47\n",
      " 48 49 50 51 52 53 54 55 56 57 58 59 60 61 62 63 64 65 66 67 68 69 70 71\n",
      " 72 73 74 75 76 77 78 79 80 81 82 83 84 85 86 87 88 89 90 91 92 93 94 95\n",
      " 96 97 98]\n"
     ]
    }
   ],
   "source": [
    "arr=np.arange(99)\n",
    "print(arr)"
   ]
  },
  {
   "cell_type": "markdown",
   "metadata": {},
   "source": [
    "Copying Arrays"
   ]
  },
  {
   "cell_type": "code",
   "execution_count": 32,
   "metadata": {},
   "outputs": [
    {
     "name": "stdout",
     "output_type": "stream",
     "text": [
      "[100   2   3]\n",
      "[100   2   3]\n"
     ]
    }
   ],
   "source": [
    "# Here if we change b, a will be changed as well as both point to same thing\n",
    "a=np.array([1,2,3])\n",
    "b=a\n",
    "b[0]=100\n",
    "print(a)\n",
    "print(b)"
   ]
  },
  {
   "cell_type": "code",
   "execution_count": 33,
   "metadata": {},
   "outputs": [
    {
     "name": "stdout",
     "output_type": "stream",
     "text": [
      "[1 2 3]\n",
      "[100   2   3]\n"
     ]
    }
   ],
   "source": [
    "# We use .copy() method to copy array\n",
    "a=np.array([1,2,3])\n",
    "b=a.copy()\n",
    "b[0]=100\n",
    "print(a)\n",
    "print(b)"
   ]
  },
  {
   "cell_type": "markdown",
   "metadata": {},
   "source": [
    "Mathematics"
   ]
  },
  {
   "cell_type": "code",
   "execution_count": 34,
   "metadata": {},
   "outputs": [
    {
     "name": "stdout",
     "output_type": "stream",
     "text": [
      "[3 4 5 6]\n",
      "[-1  0  1  2]\n",
      "[2 4 6 8]\n",
      "[0.5 1.  1.5 2. ]\n",
      "[ 1  4  9 16]\n"
     ]
    }
   ],
   "source": [
    "a=np.array([1,2,3,4])\n",
    "print(a+2)\n",
    "print(a-2)\n",
    "print(a*2)\n",
    "print(a/2)\n",
    "print(a**2)"
   ]
  },
  {
   "cell_type": "code",
   "execution_count": 35,
   "metadata": {},
   "outputs": [
    {
     "name": "stdout",
     "output_type": "stream",
     "text": [
      "[2 2 4 4]\n"
     ]
    }
   ],
   "source": [
    "b=np.array([1,0,1,0])\n",
    "print(a+b)"
   ]
  },
  {
   "cell_type": "code",
   "execution_count": 36,
   "metadata": {},
   "outputs": [
    {
     "name": "stdout",
     "output_type": "stream",
     "text": [
      "[ 0.84147098  0.90929743  0.14112001 -0.7568025 ]\n",
      "[ 0.54030231 -0.41614684 -0.9899925  -0.65364362]\n"
     ]
    }
   ],
   "source": [
    "# Taking sin,cos\n",
    "print(np.sin(a))\n",
    "print(np.cos(a))"
   ]
  },
  {
   "cell_type": "markdown",
   "metadata": {},
   "source": [
    "Linear Algebra"
   ]
  },
  {
   "cell_type": "code",
   "execution_count": 37,
   "metadata": {},
   "outputs": [
    {
     "name": "stdout",
     "output_type": "stream",
     "text": [
      "[[1. 1. 1.]\n",
      " [1. 1. 1.]]\n",
      "[[2 2]\n",
      " [2 2]\n",
      " [2 2]]\n",
      "[[6. 6.]\n",
      " [6. 6.]]\n"
     ]
    }
   ],
   "source": [
    "# Multiplying Matrices\n",
    "a=np.ones((2,3))\n",
    "print(a)\n",
    "b=np.full((3,2),2)\n",
    "print(b)\n",
    "print(np.matmul(a,b))"
   ]
  },
  {
   "cell_type": "code",
   "execution_count": 38,
   "metadata": {},
   "outputs": [],
   "source": [
    "# Can Do Many More Operations \n",
    "# Determinant\n",
    "# Trace\n",
    "# Singular Value Decomposition\n",
    "# Eignevalues\n",
    "# Matrix Norm\n",
    "# Inverse\n",
    "# etc"
   ]
  },
  {
   "cell_type": "markdown",
   "metadata": {},
   "source": [
    "Statistics"
   ]
  },
  {
   "cell_type": "code",
   "execution_count": 39,
   "metadata": {},
   "outputs": [
    {
     "name": "stdout",
     "output_type": "stream",
     "text": [
      "[[1 2 3]\n",
      " [4 5 6]\n",
      " [7 8 9]]\n"
     ]
    }
   ],
   "source": [
    "a=np.array([[1,2,3],[4,5,6],[7,8,9]])\n",
    "print(a)"
   ]
  },
  {
   "cell_type": "code",
   "execution_count": 40,
   "metadata": {},
   "outputs": [
    {
     "name": "stdout",
     "output_type": "stream",
     "text": [
      "1\n",
      "[1 2 3]\n",
      "[1 4 7]\n"
     ]
    }
   ],
   "source": [
    "print(np.min(a))\n",
    "print(np.min(a,axis=0))\n",
    "print(np.min(a,axis=1))"
   ]
  },
  {
   "cell_type": "code",
   "execution_count": 41,
   "metadata": {},
   "outputs": [
    {
     "name": "stdout",
     "output_type": "stream",
     "text": [
      "9\n",
      "[7 8 9]\n",
      "[3 6 9]\n"
     ]
    }
   ],
   "source": [
    "print(np.max(a))\n",
    "print(np.max(a,axis=0))\n",
    "print(np.max(a,axis=1))"
   ]
  },
  {
   "cell_type": "code",
   "execution_count": 42,
   "metadata": {},
   "outputs": [
    {
     "name": "stdout",
     "output_type": "stream",
     "text": [
      "45\n",
      "[12 15 18]\n",
      "[ 6 15 24]\n"
     ]
    }
   ],
   "source": [
    "print(np.sum(a))\n",
    "print(np.sum(a,axis=0))\n",
    "print(np.sum(a,axis=1))"
   ]
  },
  {
   "cell_type": "markdown",
   "metadata": {},
   "source": [
    "Reorganizing Array"
   ]
  },
  {
   "cell_type": "code",
   "execution_count": 43,
   "metadata": {},
   "outputs": [
    {
     "name": "stdout",
     "output_type": "stream",
     "text": [
      "[[1 2 3 4]\n",
      " [5 6 7 8]]\n",
      "(2, 4)\n",
      "[[1 2]\n",
      " [3 4]\n",
      " [5 6]\n",
      " [7 8]]\n",
      "[[[1 2]\n",
      "  [3 4]]\n",
      "\n",
      " [[5 6]\n",
      "  [7 8]]]\n"
     ]
    }
   ],
   "source": [
    "before=np.array([[1,2,3,4],[5,6,7,8]])\n",
    "print(before)\n",
    "print(before.shape)\n",
    "after=before.reshape((4,2))\n",
    "print(after)\n",
    "after=np.reshape(before,(2,2,2))\n",
    "print(after)"
   ]
  },
  {
   "cell_type": "code",
   "execution_count": 44,
   "metadata": {},
   "outputs": [
    {
     "name": "stdout",
     "output_type": "stream",
     "text": [
      "[[1 2 3 4]\n",
      " [5 6 7 8]\n",
      " [1 2 3 4]\n",
      " [5 6 7 8]]\n"
     ]
    }
   ],
   "source": [
    "# Vertically Stack\n",
    "a=[1,2,3,4]\n",
    "b=[5,6,7,8]\n",
    "c=np.vstack([a,b,a,b])\n",
    "print(c)"
   ]
  },
  {
   "cell_type": "code",
   "execution_count": 45,
   "metadata": {},
   "outputs": [
    {
     "name": "stdout",
     "output_type": "stream",
     "text": [
      "[[ 1  2  3  4  9 10 11 12]\n",
      " [ 5  6  7  8 13 14 15 16]]\n"
     ]
    }
   ],
   "source": [
    "# Horizontally Stack\n",
    "a=[[1,2,3,4],[5,6,7,8]]\n",
    "b=[[9,10,11,12],[13,14,15,16]]\n",
    "c=np.hstack((a,b))\n",
    "print(c)"
   ]
  },
  {
   "cell_type": "markdown",
   "metadata": {},
   "source": [
    "Miscellaneous"
   ]
  },
  {
   "cell_type": "code",
   "execution_count": 46,
   "metadata": {},
   "outputs": [
    {
     "ename": "ValueError",
     "evalue": "Some errors were detected !\n    Line #3 (got 2 columns instead of 1)\n    Line #8 (got 2 columns instead of 1)\n    Line #13 (got 2 columns instead of 1)\n    Line #18 (got 2 columns instead of 1)\n    Line #23 (got 2 columns instead of 1)\n    Line #28 (got 2 columns instead of 1)\n    Line #33 (got 2 columns instead of 1)\n    Line #38 (got 2 columns instead of 1)\n    Line #43 (got 2 columns instead of 1)\n    Line #48 (got 2 columns instead of 1)\n    Line #53 (got 2 columns instead of 1)\n    Line #58 (got 2 columns instead of 1)\n    Line #63 (got 2 columns instead of 1)\n    Line #68 (got 2 columns instead of 1)\n    Line #73 (got 2 columns instead of 1)\n    Line #78 (got 2 columns instead of 1)\n    Line #83 (got 2 columns instead of 1)\n    Line #88 (got 2 columns instead of 1)\n    Line #93 (got 2 columns instead of 1)\n    Line #98 (got 2 columns instead of 1)\n    Line #103 (got 2 columns instead of 1)\n    Line #108 (got 2 columns instead of 1)\n    Line #113 (got 2 columns instead of 1)\n    Line #118 (got 2 columns instead of 1)\n    Line #123 (got 2 columns instead of 1)\n    Line #128 (got 2 columns instead of 1)\n    Line #133 (got 2 columns instead of 1)\n    Line #138 (got 2 columns instead of 1)\n    Line #143 (got 2 columns instead of 1)\n    Line #148 (got 2 columns instead of 1)\n    Line #153 (got 2 columns instead of 1)\n    Line #158 (got 2 columns instead of 1)\n    Line #163 (got 2 columns instead of 1)\n    Line #168 (got 2 columns instead of 1)\n    Line #173 (got 2 columns instead of 1)\n    Line #178 (got 2 columns instead of 1)\n    Line #183 (got 2 columns instead of 1)\n    Line #188 (got 2 columns instead of 1)\n    Line #193 (got 2 columns instead of 1)\n    Line #198 (got 2 columns instead of 1)\n    Line #203 (got 2 columns instead of 1)\n    Line #208 (got 2 columns instead of 1)\n    Line #213 (got 2 columns instead of 1)\n    Line #218 (got 2 columns instead of 1)\n    Line #223 (got 2 columns instead of 1)\n    Line #228 (got 2 columns instead of 1)\n    Line #233 (got 2 columns instead of 1)\n    Line #238 (got 2 columns instead of 1)\n    Line #243 (got 2 columns instead of 1)\n    Line #248 (got 2 columns instead of 1)\n    Line #253 (got 2 columns instead of 1)\n    Line #258 (got 2 columns instead of 1)\n    Line #263 (got 2 columns instead of 1)\n    Line #268 (got 2 columns instead of 1)\n    Line #273 (got 2 columns instead of 1)\n    Line #278 (got 2 columns instead of 1)\n    Line #283 (got 2 columns instead of 1)\n    Line #288 (got 2 columns instead of 1)\n    Line #293 (got 2 columns instead of 1)\n    Line #298 (got 2 columns instead of 1)\n    Line #303 (got 2 columns instead of 1)\n    Line #308 (got 2 columns instead of 1)\n    Line #313 (got 2 columns instead of 1)\n    Line #318 (got 2 columns instead of 1)\n    Line #323 (got 2 columns instead of 1)\n    Line #328 (got 2 columns instead of 1)\n    Line #333 (got 2 columns instead of 1)\n    Line #338 (got 2 columns instead of 1)\n    Line #343 (got 2 columns instead of 1)\n    Line #348 (got 2 columns instead of 1)\n    Line #353 (got 2 columns instead of 1)\n    Line #358 (got 2 columns instead of 1)\n    Line #363 (got 2 columns instead of 1)\n    Line #368 (got 2 columns instead of 1)\n    Line #373 (got 2 columns instead of 1)\n    Line #378 (got 2 columns instead of 1)\n    Line #383 (got 2 columns instead of 1)\n    Line #388 (got 2 columns instead of 1)\n    Line #393 (got 2 columns instead of 1)\n    Line #398 (got 2 columns instead of 1)\n    Line #403 (got 2 columns instead of 1)\n    Line #408 (got 2 columns instead of 1)\n    Line #413 (got 2 columns instead of 1)\n    Line #418 (got 2 columns instead of 1)\n    Line #423 (got 2 columns instead of 1)\n    Line #428 (got 2 columns instead of 1)\n    Line #433 (got 2 columns instead of 1)\n    Line #438 (got 2 columns instead of 1)\n    Line #443 (got 2 columns instead of 1)\n    Line #448 (got 2 columns instead of 1)\n    Line #453 (got 2 columns instead of 1)\n    Line #458 (got 2 columns instead of 1)\n    Line #463 (got 2 columns instead of 1)\n    Line #468 (got 2 columns instead of 1)\n    Line #473 (got 2 columns instead of 1)\n    Line #478 (got 2 columns instead of 1)\n    Line #483 (got 2 columns instead of 1)\n    Line #488 (got 2 columns instead of 1)\n    Line #493 (got 2 columns instead of 1)\n    Line #498 (got 2 columns instead of 1)",
     "output_type": "error",
     "traceback": [
      "\u001b[1;31m---------------------------------------------------------------------------\u001b[0m",
      "\u001b[1;31mValueError\u001b[0m                                Traceback (most recent call last)",
      "Input \u001b[1;32mIn [46]\u001b[0m, in \u001b[0;36m<cell line: 1>\u001b[1;34m()\u001b[0m\n\u001b[1;32m----> 1\u001b[0m filedata\u001b[38;5;241m=\u001b[39m\u001b[43mnp\u001b[49m\u001b[38;5;241;43m.\u001b[39;49m\u001b[43mgenfromtxt\u001b[49m\u001b[43m(\u001b[49m\u001b[38;5;124;43m'\u001b[39;49m\u001b[38;5;124;43mdata.txt\u001b[39;49m\u001b[38;5;124;43m'\u001b[39;49m\u001b[43m,\u001b[49m\u001b[43mdelimiter\u001b[49m\u001b[38;5;241;43m=\u001b[39;49m\u001b[38;5;124;43m'\u001b[39;49m\u001b[38;5;124;43m,\u001b[39;49m\u001b[38;5;124;43m'\u001b[39;49m\u001b[43m)\u001b[49m\n\u001b[0;32m      2\u001b[0m \u001b[38;5;28mprint\u001b[39m(filedata)\n\u001b[0;32m      3\u001b[0m filedata\u001b[38;5;241m=\u001b[39mfiledata\u001b[38;5;241m.\u001b[39mastype(np\u001b[38;5;241m.\u001b[39mint32)\n",
      "File \u001b[1;32mc:\\Python310\\lib\\site-packages\\numpy\\lib\\npyio.py:2301\u001b[0m, in \u001b[0;36mgenfromtxt\u001b[1;34m(fname, dtype, comments, delimiter, skip_header, skip_footer, converters, missing_values, filling_values, usecols, names, excludelist, deletechars, replace_space, autostrip, case_sensitive, defaultfmt, unpack, usemask, loose, invalid_raise, max_rows, encoding, ndmin, like)\u001b[0m\n\u001b[0;32m   2299\u001b[0m \u001b[38;5;66;03m# Raise an exception ?\u001b[39;00m\n\u001b[0;32m   2300\u001b[0m \u001b[38;5;28;01mif\u001b[39;00m invalid_raise:\n\u001b[1;32m-> 2301\u001b[0m     \u001b[38;5;28;01mraise\u001b[39;00m \u001b[38;5;167;01mValueError\u001b[39;00m(errmsg)\n\u001b[0;32m   2302\u001b[0m \u001b[38;5;66;03m# Issue a warning ?\u001b[39;00m\n\u001b[0;32m   2303\u001b[0m \u001b[38;5;28;01melse\u001b[39;00m:\n\u001b[0;32m   2304\u001b[0m     warnings\u001b[38;5;241m.\u001b[39mwarn(errmsg, ConversionWarning, stacklevel\u001b[38;5;241m=\u001b[39m\u001b[38;5;241m2\u001b[39m)\n",
      "\u001b[1;31mValueError\u001b[0m: Some errors were detected !\n    Line #3 (got 2 columns instead of 1)\n    Line #8 (got 2 columns instead of 1)\n    Line #13 (got 2 columns instead of 1)\n    Line #18 (got 2 columns instead of 1)\n    Line #23 (got 2 columns instead of 1)\n    Line #28 (got 2 columns instead of 1)\n    Line #33 (got 2 columns instead of 1)\n    Line #38 (got 2 columns instead of 1)\n    Line #43 (got 2 columns instead of 1)\n    Line #48 (got 2 columns instead of 1)\n    Line #53 (got 2 columns instead of 1)\n    Line #58 (got 2 columns instead of 1)\n    Line #63 (got 2 columns instead of 1)\n    Line #68 (got 2 columns instead of 1)\n    Line #73 (got 2 columns instead of 1)\n    Line #78 (got 2 columns instead of 1)\n    Line #83 (got 2 columns instead of 1)\n    Line #88 (got 2 columns instead of 1)\n    Line #93 (got 2 columns instead of 1)\n    Line #98 (got 2 columns instead of 1)\n    Line #103 (got 2 columns instead of 1)\n    Line #108 (got 2 columns instead of 1)\n    Line #113 (got 2 columns instead of 1)\n    Line #118 (got 2 columns instead of 1)\n    Line #123 (got 2 columns instead of 1)\n    Line #128 (got 2 columns instead of 1)\n    Line #133 (got 2 columns instead of 1)\n    Line #138 (got 2 columns instead of 1)\n    Line #143 (got 2 columns instead of 1)\n    Line #148 (got 2 columns instead of 1)\n    Line #153 (got 2 columns instead of 1)\n    Line #158 (got 2 columns instead of 1)\n    Line #163 (got 2 columns instead of 1)\n    Line #168 (got 2 columns instead of 1)\n    Line #173 (got 2 columns instead of 1)\n    Line #178 (got 2 columns instead of 1)\n    Line #183 (got 2 columns instead of 1)\n    Line #188 (got 2 columns instead of 1)\n    Line #193 (got 2 columns instead of 1)\n    Line #198 (got 2 columns instead of 1)\n    Line #203 (got 2 columns instead of 1)\n    Line #208 (got 2 columns instead of 1)\n    Line #213 (got 2 columns instead of 1)\n    Line #218 (got 2 columns instead of 1)\n    Line #223 (got 2 columns instead of 1)\n    Line #228 (got 2 columns instead of 1)\n    Line #233 (got 2 columns instead of 1)\n    Line #238 (got 2 columns instead of 1)\n    Line #243 (got 2 columns instead of 1)\n    Line #248 (got 2 columns instead of 1)\n    Line #253 (got 2 columns instead of 1)\n    Line #258 (got 2 columns instead of 1)\n    Line #263 (got 2 columns instead of 1)\n    Line #268 (got 2 columns instead of 1)\n    Line #273 (got 2 columns instead of 1)\n    Line #278 (got 2 columns instead of 1)\n    Line #283 (got 2 columns instead of 1)\n    Line #288 (got 2 columns instead of 1)\n    Line #293 (got 2 columns instead of 1)\n    Line #298 (got 2 columns instead of 1)\n    Line #303 (got 2 columns instead of 1)\n    Line #308 (got 2 columns instead of 1)\n    Line #313 (got 2 columns instead of 1)\n    Line #318 (got 2 columns instead of 1)\n    Line #323 (got 2 columns instead of 1)\n    Line #328 (got 2 columns instead of 1)\n    Line #333 (got 2 columns instead of 1)\n    Line #338 (got 2 columns instead of 1)\n    Line #343 (got 2 columns instead of 1)\n    Line #348 (got 2 columns instead of 1)\n    Line #353 (got 2 columns instead of 1)\n    Line #358 (got 2 columns instead of 1)\n    Line #363 (got 2 columns instead of 1)\n    Line #368 (got 2 columns instead of 1)\n    Line #373 (got 2 columns instead of 1)\n    Line #378 (got 2 columns instead of 1)\n    Line #383 (got 2 columns instead of 1)\n    Line #388 (got 2 columns instead of 1)\n    Line #393 (got 2 columns instead of 1)\n    Line #398 (got 2 columns instead of 1)\n    Line #403 (got 2 columns instead of 1)\n    Line #408 (got 2 columns instead of 1)\n    Line #413 (got 2 columns instead of 1)\n    Line #418 (got 2 columns instead of 1)\n    Line #423 (got 2 columns instead of 1)\n    Line #428 (got 2 columns instead of 1)\n    Line #433 (got 2 columns instead of 1)\n    Line #438 (got 2 columns instead of 1)\n    Line #443 (got 2 columns instead of 1)\n    Line #448 (got 2 columns instead of 1)\n    Line #453 (got 2 columns instead of 1)\n    Line #458 (got 2 columns instead of 1)\n    Line #463 (got 2 columns instead of 1)\n    Line #468 (got 2 columns instead of 1)\n    Line #473 (got 2 columns instead of 1)\n    Line #478 (got 2 columns instead of 1)\n    Line #483 (got 2 columns instead of 1)\n    Line #488 (got 2 columns instead of 1)\n    Line #493 (got 2 columns instead of 1)\n    Line #498 (got 2 columns instead of 1)"
     ]
    }
   ],
   "source": [
    "filedata=np.genfromtxt('data.txt',delimiter=',')\n",
    "print(filedata)\n",
    "filedata=filedata.astype(np.int32)\n",
    "print(filedata)"
   ]
  },
  {
   "cell_type": "code",
   "execution_count": null,
   "metadata": {},
   "outputs": [],
   "source": [
    "print(filedata>50)\n",
    "print(filedata[filedata>50])\n"
   ]
  },
  {
   "cell_type": "code",
   "execution_count": null,
   "metadata": {},
   "outputs": [],
   "source": [
    "a=np.array([1,2,3,4,5,6,7,8,9])\n",
    "print(a[[1,2,8]])"
   ]
  },
  {
   "cell_type": "code",
   "execution_count": null,
   "metadata": {},
   "outputs": [],
   "source": [
    "print(np.any(filedata>50,axis=0))\n",
    "print(np.all(filedata>50,axis=0))\n",
    "print(np.any(filedata>50,axis=1))\n",
    "print(np.all(filedata>50,axis=1))"
   ]
  },
  {
   "cell_type": "code",
   "execution_count": null,
   "metadata": {},
   "outputs": [],
   "source": [
    "print((filedata>50) & (filedata<100))\n",
    "print(~(filedata>50) & (filedata<100))"
   ]
  },
  {
   "cell_type": "code",
   "execution_count": null,
   "metadata": {},
   "outputs": [],
   "source": [
    "arr = np.array([[1, 2, 3, 4, 5], [6, 7, 8, 9, 10], [11, 12, 13, 14, 15], [\n",
    "               16, 17, 18, 19, 20], [21, 22, 23, 24, 25],[26,27,28,29,30]])\n",
    "print(arr)\n",
    "print(arr[2:4, 0:2])\n",
    "print(arr[[0, 1, 2, 3], [1, 2, 3, 4]])\n",
    "print(arr[[0, 4, 5],3:])\n"
   ]
  }
 ],
 "metadata": {
  "kernelspec": {
   "display_name": "Python 3.10.4 64-bit",
   "language": "python",
   "name": "python3"
  },
  "language_info": {
   "codemirror_mode": {
    "name": "ipython",
    "version": 3
   },
   "file_extension": ".py",
   "mimetype": "text/x-python",
   "name": "python",
   "nbconvert_exporter": "python",
   "pygments_lexer": "ipython3",
   "version": "3.10.4"
  },
  "orig_nbformat": 4,
  "vscode": {
   "interpreter": {
    "hash": "369f2c481f4da34e4445cda3fffd2e751bd1c4d706f27375911949ba6bb62e1c"
   }
  }
 },
 "nbformat": 4,
 "nbformat_minor": 2
}
