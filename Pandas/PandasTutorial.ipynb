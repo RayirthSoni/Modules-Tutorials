{
 "cells": [
  {
   "attachments": {},
   "cell_type": "markdown",
   "metadata": {},
   "source": [
    "Summary<br>\n",
    "> introduction<br>\n",
    "- pd.read_csv() --> used for reading our csv file\n",
    "- df.shape --> will give number of rows and columns in our dataframe\n",
    "- df.info() --> will give basic info of data\n",
    "- pd.set_option() --> can set rows and columns which want to display\n",
    "- df.head() and df.tail() --> will display first few rows and last few rows of our dataframe respectively\n",
    "> dataframe and series<br>\n",
    "- dataframe --> basically rows and columns\n",
    "- series --> it has only rows of data\n",
    "- pd.DataFrame() --> to create dataframe\n",
    "- df.columns --> to display columns in dataframe\n",
    "- loc and iloc are used to index particular element\n",
    "- iloc and loc --> integer based location and label based location\n",
    "- both are in format of (row,columms)\n",
    "- example --> df.iloc[0,0] and df.loc[0,'email']\n",
    "- if want to pass more than 1 values then do it as list\n",
    "- - df.loc[[0:4],['email','last_name']]\n",
    "> indexes<br>\n",
    "- df.set_index('email',inplace = True) --> want to change index and make permanent.\n",
    "- df.index --> check index of dataframe\n",
    "- df.reset_index() --> reset index back to default.\n",
    "- df.sort_index(ascending = True,inplace=True) --> sort indices make permanent and ascending order,\n",
    "> filtering<br>\n",
    "- example : filt = (df['last_name'] == 'Chawla')\n",
    "- - this will give all which has last_name Chawla\n",
    "- we can also use &(and) |(or) and ~(not) for filtering\n",
    "- df.loc[filt] and df[filt] both can be used preferably loc since can filter further doing so\n",
    "- - df.loc[filt,'email']\n",
    "- using isin\n",
    "- - countries = ['United States of America','India','China']\n",
    "- - filt = df['Country'].isin(countries)\n",
    "- using str.contains() --> na false cause might have nan values to deal with\n",
    "- - filt = df['LanguageHaveWorkedWith'].str.contains('Python',na = False)\n",
    "> updating rows and columns<br>\n",
    "- df.columns = ['name1','name2','name3'] --> to change name of all columns in dataframe\n",
    "- df.columns = [x.upper() for x in df.columns] --> change all names to uppercase\n",
    "- df.columns = df.columns.str.replace(\"_\",\" \") --> replace _ with \" \" space \n",
    "- df.columns = df.rename(columns = {\"first_name\" : \"first\"},inplace = True) --> change name of specific columns\n",
    "- df.loc[2] = ['Vrinda','Sharma','vrindasharma@outlook.com'] --> update all values for row\n",
    "- df.loc[2,['first_name','last_name']] = ['Mallika','Singh'] --> update multiple values in row\n",
    "- df.loc[2,'last_name'] = ['Chawla'] --> update only one value in row\n",
    "- df.at[2,'last_name'] = 'Sharma' --> update one value at row can be done using at and loc\n",
    "- filt = df['email'] == 'vrindachawla@outlook.com'<br>\n",
    "df.loc[filt,'last_name'] = 'Chawla'<br>\n",
    "change values using filt\n",
    "- df['email'] = df['email'].str.lower()\n",
    "- Important methods\n",
    "- - <b>apply</b> --> can work on dataframe and series.<br>\n",
    "series ---> applies function on every value in series<br>\n",
    "df['email'].apply(len)<br>\n",
    "df['email'] = df['email'].apply(update_email)<br>\n",
    "df['email'].apply(lambda x : x.lower())<br>\n",
    "dataframe ---> applies function on series dataframe has<br>\n",
    "df.apply(len,axis='columns')<br>\n",
    "df.apply(len,axis='rows')<br>\n",
    "df.apply(pd.Series.min)<br>\n",
    "df.apply(lambda x : x.min())<br>\n",
    "- - <b>applymap</b> --> works on dataframe only not on series.applies function on every value in dataframe.<br>\n",
    "df.applymap(len)<br>\n",
    "df.applymap(str.lower)<br>\n",
    "- - <b>map</b> --> works on series only not on dataframe.will put nan at values not entered so better to use replace\n",
    "df_copy = df['first'].map({\"Vrinda\" : \"Arya\"})<br>\n",
    "will have series only as output where all names will be nan and only where vrinda was there will change it to arya\n",
    "- - <b>reduce</b> --> will replace values will work on series\n",
    "df['first'] = df['first'].replace({\"Vrinda\" : \"Arya\"})<br>\n",
    "will have dataframe as output and will change vrinda to arya and rest as they were before.\n",
    "> add/remove rows and columns<br>\n",
    "- suppose want to get full_name column from first_name and last_name column\n",
    "- - df['full_name'] = df['first_name'] + \" \" + df['last_name']\n",
    "- - df['full_name'] = df.apply(lambda x : x['first_name'] + \" \" + x['last_name'],axis=1)\n",
    "- want to remove first_name and last_name columns\n",
    "- - df.drop(columns = ['first_name','last_name'],inplace = True)\n",
    "- want to get multiple columns via splitting\n",
    "- - df['first_name','last_name'] = df['full_name'].str.split(' ',expand = True)\n",
    "- add a single row or a dataframe \n",
    "- - append method not gonna work on future versions of pandas so prefer using concat\n",
    "- - sr1 = pd.DataFrame({'first_name':['Ritik'],'last_name' : ['Garg']})<br>\n",
    "df = pd.concat([df,sr1],ignore_index = True,axis=0)<br>\n",
    "- remove row\n",
    "- - df.drop(index = 4,inplace = True)\n",
    "> sorting<br>\n",
    "- df.sort_values(by=['',''],ascending=['',''],inplace=True)\n",
    "- df.sort_index()\n",
    "- df.nlargest(10,'') and df[].nsmalles(10)\n",
    "> Examples\n",
    "- df.sort_values(by='last_name',ascending = True) --> will sort values according to last_name in ascending order\n",
    "- df.sort_values(by=['last_name','first_name'],ascending = False) --> will sort according to last_name and first_name in descending order,first by last_name if last_name same then first_name\n",
    "- df.sort_values(by=['last_name','first_name'],ascending=['True','False'],inplace = True) --> will sort according to attributes as mentioned,last_name in asceding order and first_name descending order.\n",
    "- df.sort_index(inplace = True) --> will sort according to index\n",
    "- df['last_name'].sort_values() --> will sort series.\n",
    "- df['Pay'].nlargest(10)\n",
    "- df.nsmallest(10,'Pay')\n",
    "> grouping and aggreating<br>\n",
    "- df['Total_Pay'].median()\n",
    "- df.median()\n",
    "- df.describe()\n",
    "- df['Total_Pay'].count()\n",
    "- df['OpSysProfessional use'].value_counts() --> will gives count of all values we have\n",
    "- df['OpSysPersonal use'].value_counts(normalize=True) --> percent of count a value is\n",
    "- country_grp = df.groupby(['Country'])\n",
    "- country_grp.get_group('United States of America')\n",
    "- country_grp['YearsCode'].value_counts().head(60)\n",
    "- country_grp['YearsCode'].value_counts().loc['India']\n",
    "- country_grp['Total_Pay'].median()\n",
    "- country_grp['Total_Pay'].mean()\n",
    "- country_grp['Total_Pay'].agg(['median','mean'])\n",
    "- country_grp['LanguageHaveWorkedWith'].apply(lambda x : x.str.contains('Python').sum())\n",
    "- country_grp['LanguageHaveWorkedWith'].apply(lambda x : x.str.contains('Python').value_counts(normalize=True))\n",
    "> cleaning data<br>\n",
    "- df.dropna() --> drop those which have np.nan values\n",
    "- - df.dropna(axis = \"index\", how = \"any\") --> same as up since index is rows and any means if any value in that row np.nan then drop it\n",
    "- - df.dropna(axis = \"columns\", how = \"any\") --> if any in column np.nan then drop that column\n",
    "- - df.dropna(axis = \"index\", how = \"all\") --> if all in index np.nan then drop\n",
    "- - df.dropna(axis='index',how='any',subset=['last','email']) --> do it for last and email column only\n",
    "- if have \"missing\" or NA then do following \n",
    "- - df.replace(\"NA\",np.nan,inplace=True)\n",
    "- - df.replace(\"Missing\",np.nan,inplace=True)\n",
    "- df.isna() --> check for na values\n",
    "- df.fillna(\"Missing\") or df.fillna(0) --> fill wherever nan values use 0 for numeric computation\n",
    "- df['age'] = df['age'].astype(float) --> here used float as np.nan is float and will give error if try do to int\n",
    "- df['age'].mean()\n",
    "- df['YearsCode'].unique() --> all unique values our column has\n",
    "- df.replace({\"More than 50 years\" : 51,\"Less than 1 year\" : 0},inplace = True)\n"
   ]
  },
  {
   "cell_type": "code",
   "execution_count": 1,
   "metadata": {},
   "outputs": [],
   "source": [
    "import pandas as pd\n",
    "from IPython.core.interactiveshell import InteractiveShell\n",
    "InteractiveShell.ast_node_interactivity = \"all\"\n",
    "import os"
   ]
  },
  {
   "cell_type": "code",
   "execution_count": 2,
   "metadata": {},
   "outputs": [
    {
     "data": {
      "text/plain": [
       "'/Users/rayirth.soni/Code/Personal/EDA Practise/Modules-Tutorials/Pandas'"
      ]
     },
     "execution_count": 2,
     "metadata": {},
     "output_type": "execute_result"
    }
   ],
   "source": [
    "cwd = os.getcwd()\n",
    "cwd"
   ]
  },
  {
   "cell_type": "code",
   "execution_count": 3,
   "metadata": {},
   "outputs": [
    {
     "data": {
      "text/plain": [
       "'/Users/rayirth.soni/Code/Personal/EDA Practise/Modules-Tutorials/Pandas/survey_results_public.csv'"
      ]
     },
     "execution_count": 3,
     "metadata": {},
     "output_type": "execute_result"
    },
    {
     "data": {
      "text/plain": [
       "'/Users/rayirth.soni/Code/Personal/EDA Practise/Modules-Tutorials/Pandas/survey_results_schema.csv'"
      ]
     },
     "execution_count": 3,
     "metadata": {},
     "output_type": "execute_result"
    }
   ],
   "source": [
    "survey_results_public_path = os.path.join(cwd,'survey_results_public.csv')\n",
    "survey_results_public_path\n",
    "survey_results_schema_path = os.path.join(cwd,'survey_results_schema.csv')\n",
    "survey_results_schema_path"
   ]
  },
  {
   "attachments": {},
   "cell_type": "markdown",
   "metadata": {},
   "source": [
    "# Corey Schaffer"
   ]
  },
  {
   "attachments": {},
   "cell_type": "markdown",
   "metadata": {},
   "source": [
    "## Getting Started With Data Analysis"
   ]
  },
  {
   "attachments": {},
   "cell_type": "markdown",
   "metadata": {},
   "source": [
    "Pandas library is basically use for dealing with datasets.Use for analyzing,creating and removing datasets.<br>\n",
    "- pd.read_csv() --> used for reading dataset<br>\n",
    "- df.shape --> determinig rows and columns<br>\n",
    "- df.info() --> info about table<br>\n",
    "- pd.set_option -->  use like say want to display 100 rows and 100 columns in output<br>\n",
    "- - pd.set_option('diplay.max_rows',100) --> will display 100 rows<br>\n",
    "- - pd.set_option('display.max_columns',100) --> will display 100 columns<br>\n",
    "- df.head() and df.tail() is used for displaying dataset<br>\n",
    "- - df.head displays top of dataset<br>\n",
    "- - df.tail displays bottom of dataset<br>"
   ]
  },
  {
   "cell_type": "code",
   "execution_count": 4,
   "metadata": {},
   "outputs": [
    {
     "data": {
      "text/html": [
       "<div>\n",
       "<style scoped>\n",
       "    .dataframe tbody tr th:only-of-type {\n",
       "        vertical-align: middle;\n",
       "    }\n",
       "\n",
       "    .dataframe tbody tr th {\n",
       "        vertical-align: top;\n",
       "    }\n",
       "\n",
       "    .dataframe thead th {\n",
       "        text-align: right;\n",
       "    }\n",
       "</style>\n",
       "<table border=\"1\" class=\"dataframe\">\n",
       "  <thead>\n",
       "    <tr style=\"text-align: right;\">\n",
       "      <th></th>\n",
       "      <th>version https://git-lfs.github.com/spec/v1</th>\n",
       "    </tr>\n",
       "  </thead>\n",
       "  <tbody>\n",
       "    <tr>\n",
       "      <th>0</th>\n",
       "      <td>oid sha256:adcbfc17e2a91bb8fe5e09665c55e20df3b...</td>\n",
       "    </tr>\n",
       "    <tr>\n",
       "      <th>1</th>\n",
       "      <td>size 108829270</td>\n",
       "    </tr>\n",
       "  </tbody>\n",
       "</table>\n",
       "</div>"
      ],
      "text/plain": [
       "          version https://git-lfs.github.com/spec/v1\n",
       "0  oid sha256:adcbfc17e2a91bb8fe5e09665c55e20df3b...\n",
       "1                                     size 108829270"
      ]
     },
     "execution_count": 4,
     "metadata": {},
     "output_type": "execute_result"
    }
   ],
   "source": [
    "df = pd.read_csv(survey_results_public_path)\n",
    "df"
   ]
  },
  {
   "cell_type": "code",
   "execution_count": 5,
   "metadata": {},
   "outputs": [
    {
     "data": {
      "text/plain": [
       "(2, 1)"
      ]
     },
     "execution_count": 5,
     "metadata": {},
     "output_type": "execute_result"
    }
   ],
   "source": [
    "df.shape"
   ]
  },
  {
   "cell_type": "code",
   "execution_count": 6,
   "metadata": {},
   "outputs": [
    {
     "name": "stdout",
     "output_type": "stream",
     "text": [
      "<class 'pandas.core.frame.DataFrame'>\n",
      "RangeIndex: 2 entries, 0 to 1\n",
      "Data columns (total 1 columns):\n",
      " #   Column                                      Non-Null Count  Dtype \n",
      "---  ------                                      --------------  ----- \n",
      " 0   version https://git-lfs.github.com/spec/v1  2 non-null      object\n",
      "dtypes: object(1)\n",
      "memory usage: 148.0+ bytes\n"
     ]
    }
   ],
   "source": [
    "df.info()"
   ]
  },
  {
   "cell_type": "code",
   "execution_count": 7,
   "metadata": {},
   "outputs": [],
   "source": [
    "pd.set_option('display.max_columns',85)\n",
    "pd.set_option ('display.max_rows',85)"
   ]
  },
  {
   "cell_type": "code",
   "execution_count": 8,
   "metadata": {},
   "outputs": [
    {
     "data": {
      "text/html": [
       "<div>\n",
       "<style scoped>\n",
       "    .dataframe tbody tr th:only-of-type {\n",
       "        vertical-align: middle;\n",
       "    }\n",
       "\n",
       "    .dataframe tbody tr th {\n",
       "        vertical-align: top;\n",
       "    }\n",
       "\n",
       "    .dataframe thead th {\n",
       "        text-align: right;\n",
       "    }\n",
       "</style>\n",
       "<table border=\"1\" class=\"dataframe\">\n",
       "  <thead>\n",
       "    <tr style=\"text-align: right;\">\n",
       "      <th></th>\n",
       "      <th>version https://git-lfs.github.com/spec/v1</th>\n",
       "    </tr>\n",
       "  </thead>\n",
       "  <tbody>\n",
       "    <tr>\n",
       "      <th>0</th>\n",
       "      <td>oid sha256:51af70e09e44681b100600a1630678167b6...</td>\n",
       "    </tr>\n",
       "    <tr>\n",
       "      <th>1</th>\n",
       "      <td>size 14471</td>\n",
       "    </tr>\n",
       "  </tbody>\n",
       "</table>\n",
       "</div>"
      ],
      "text/plain": [
       "          version https://git-lfs.github.com/spec/v1\n",
       "0  oid sha256:51af70e09e44681b100600a1630678167b6...\n",
       "1                                         size 14471"
      ]
     },
     "execution_count": 8,
     "metadata": {},
     "output_type": "execute_result"
    }
   ],
   "source": [
    "schema_df = pd.read_csv(survey_results_schema_path)\n",
    "schema_df"
   ]
  },
  {
   "cell_type": "code",
   "execution_count": 9,
   "metadata": {},
   "outputs": [
    {
     "data": {
      "text/html": [
       "<div>\n",
       "<style scoped>\n",
       "    .dataframe tbody tr th:only-of-type {\n",
       "        vertical-align: middle;\n",
       "    }\n",
       "\n",
       "    .dataframe tbody tr th {\n",
       "        vertical-align: top;\n",
       "    }\n",
       "\n",
       "    .dataframe thead th {\n",
       "        text-align: right;\n",
       "    }\n",
       "</style>\n",
       "<table border=\"1\" class=\"dataframe\">\n",
       "  <thead>\n",
       "    <tr style=\"text-align: right;\">\n",
       "      <th></th>\n",
       "      <th>version https://git-lfs.github.com/spec/v1</th>\n",
       "    </tr>\n",
       "  </thead>\n",
       "  <tbody>\n",
       "    <tr>\n",
       "      <th>0</th>\n",
       "      <td>oid sha256:adcbfc17e2a91bb8fe5e09665c55e20df3b...</td>\n",
       "    </tr>\n",
       "    <tr>\n",
       "      <th>1</th>\n",
       "      <td>size 108829270</td>\n",
       "    </tr>\n",
       "  </tbody>\n",
       "</table>\n",
       "</div>"
      ],
      "text/plain": [
       "          version https://git-lfs.github.com/spec/v1\n",
       "0  oid sha256:adcbfc17e2a91bb8fe5e09665c55e20df3b...\n",
       "1                                     size 108829270"
      ]
     },
     "execution_count": 9,
     "metadata": {},
     "output_type": "execute_result"
    }
   ],
   "source": [
    "df.head(10)"
   ]
  },
  {
   "cell_type": "code",
   "execution_count": 10,
   "metadata": {},
   "outputs": [
    {
     "data": {
      "text/html": [
       "<div>\n",
       "<style scoped>\n",
       "    .dataframe tbody tr th:only-of-type {\n",
       "        vertical-align: middle;\n",
       "    }\n",
       "\n",
       "    .dataframe tbody tr th {\n",
       "        vertical-align: top;\n",
       "    }\n",
       "\n",
       "    .dataframe thead th {\n",
       "        text-align: right;\n",
       "    }\n",
       "</style>\n",
       "<table border=\"1\" class=\"dataframe\">\n",
       "  <thead>\n",
       "    <tr style=\"text-align: right;\">\n",
       "      <th></th>\n",
       "      <th>version https://git-lfs.github.com/spec/v1</th>\n",
       "    </tr>\n",
       "  </thead>\n",
       "  <tbody>\n",
       "    <tr>\n",
       "      <th>0</th>\n",
       "      <td>oid sha256:adcbfc17e2a91bb8fe5e09665c55e20df3b...</td>\n",
       "    </tr>\n",
       "    <tr>\n",
       "      <th>1</th>\n",
       "      <td>size 108829270</td>\n",
       "    </tr>\n",
       "  </tbody>\n",
       "</table>\n",
       "</div>"
      ],
      "text/plain": [
       "          version https://git-lfs.github.com/spec/v1\n",
       "0  oid sha256:adcbfc17e2a91bb8fe5e09665c55e20df3b...\n",
       "1                                     size 108829270"
      ]
     },
     "execution_count": 10,
     "metadata": {},
     "output_type": "execute_result"
    }
   ],
   "source": [
    "df.tail(10)"
   ]
  },
  {
   "attachments": {},
   "cell_type": "markdown",
   "metadata": {},
   "source": [
    "## DataFrame & Series"
   ]
  },
  {
   "attachments": {},
   "cell_type": "markdown",
   "metadata": {},
   "source": [
    "Here basically we have 2 types of data in pandas ie dataframe and series<br><br>\n",
    "\n",
    "- dataframe --> basically rows and columns\n",
    "- series --> it has only rows of data<br>\n",
    "- pd.DataFrame() --> to create dataframe\n",
    "- df.columns --> to display columns in dataframe\n",
    "- loc and iloc are used to index particular element\n",
    "- iloc --> integer based location\n",
    "- loc --> label based location\n",
    "- both are in format of (row,columms)\n",
    "- example --> df.iloc[0,0] and df.loc[0,'email']\n",
    "- if want to pass more than 1 values then do it as list\n",
    "- - df.loc[[0:4],['email','last_name']]"
   ]
  },
  {
   "cell_type": "code",
   "execution_count": 11,
   "metadata": {},
   "outputs": [],
   "source": [
    "import pandas as pd\n",
    "from IPython.core.interactiveshell import InteractiveShell\n",
    "InteractiveShell.ast_node_interactivity = \"all\""
   ]
  },
  {
   "cell_type": "code",
   "execution_count": 12,
   "metadata": {},
   "outputs": [
    {
     "data": {
      "text/plain": [
       "['rayirthsoni@gmail.com', 'riyachawla@apple.com', 'vrindasingh@outlook.com']"
      ]
     },
     "execution_count": 12,
     "metadata": {},
     "output_type": "execute_result"
    },
    {
     "data": {
      "text/plain": [
       "list"
      ]
     },
     "execution_count": 12,
     "metadata": {},
     "output_type": "execute_result"
    }
   ],
   "source": [
    "# dataframe is bascially rows and columns\n",
    "# suppose for example want to think' dataframe in terms of python then can be though as dictionary\n",
    "person = {\n",
    "\"first\": \"Rayirth\",\n",
    "\"last\" : \"Soni\",\n",
    "\"email\" : \"rayirthsoni@gmail.com\"\n",
    "}\n",
    "people = {\n",
    "\"first\" : [\"rayirth\"],\n",
    "\"last\" : [\"soni\"],\n",
    "\"email\" : [\"rayirthsoni@gmail.com\"]\n",
    "}\n",
    "people = {\n",
    "\"first\" : [\"Rayirth\", \"Riya\", \"Vrinda\"],\n",
    "\"last\" : [\"Soni\",\"Chawla\",\"Singh\"],\n",
    "\"email\" : [\"rayirthsoni@gmail.com\",\"riyachawla@apple.com\", \"vrindasingh@outlook.com\"]\n",
    "}\n",
    "# now here dataframe can be for example though as dictionary where keys a columns and values as rows\n",
    "# for multiple values do it as list, 2nd row is 2nd value for each key\n",
    "# now say want to access all emails then\n",
    "people[\"email\"]\n",
    "type(people [\"email\"])\n",
    "# dataframes are somewhat similar to this but with more functionality."
   ]
  },
  {
   "cell_type": "code",
   "execution_count": 13,
   "metadata": {},
   "outputs": [
    {
     "data": {
      "text/html": [
       "<div>\n",
       "<style scoped>\n",
       "    .dataframe tbody tr th:only-of-type {\n",
       "        vertical-align: middle;\n",
       "    }\n",
       "\n",
       "    .dataframe tbody tr th {\n",
       "        vertical-align: top;\n",
       "    }\n",
       "\n",
       "    .dataframe thead th {\n",
       "        text-align: right;\n",
       "    }\n",
       "</style>\n",
       "<table border=\"1\" class=\"dataframe\">\n",
       "  <thead>\n",
       "    <tr style=\"text-align: right;\">\n",
       "      <th></th>\n",
       "      <th>first</th>\n",
       "      <th>last</th>\n",
       "      <th>email</th>\n",
       "    </tr>\n",
       "  </thead>\n",
       "  <tbody>\n",
       "    <tr>\n",
       "      <th>0</th>\n",
       "      <td>Rayirth</td>\n",
       "      <td>Soni</td>\n",
       "      <td>rayirthsoni@gmail.com</td>\n",
       "    </tr>\n",
       "    <tr>\n",
       "      <th>1</th>\n",
       "      <td>Riya</td>\n",
       "      <td>Chawla</td>\n",
       "      <td>riyachawla@apple.com</td>\n",
       "    </tr>\n",
       "    <tr>\n",
       "      <th>2</th>\n",
       "      <td>Vrinda</td>\n",
       "      <td>Singh</td>\n",
       "      <td>vrindasingh@outlook.com</td>\n",
       "    </tr>\n",
       "  </tbody>\n",
       "</table>\n",
       "</div>"
      ],
      "text/plain": [
       "     first    last                    email\n",
       "0  Rayirth    Soni    rayirthsoni@gmail.com\n",
       "1     Riya  Chawla     riyachawla@apple.com\n",
       "2   Vrinda   Singh  vrindasingh@outlook.com"
      ]
     },
     "execution_count": 13,
     "metadata": {},
     "output_type": "execute_result"
    }
   ],
   "source": [
    "# to create a data frame from existing dictionary\n",
    "df = pd.DataFrame (people)\n",
    "df"
   ]
  },
  {
   "cell_type": "code",
   "execution_count": 14,
   "metadata": {},
   "outputs": [
    {
     "data": {
      "text/plain": [
       "0      rayirthsoni@gmail.com\n",
       "1       riyachawla@apple.com\n",
       "2    vrindasingh@outlook.com\n",
       "Name: email, dtype: object"
      ]
     },
     "execution_count": 14,
     "metadata": {},
     "output_type": "execute_result"
    }
   ],
   "source": [
    "# access values from data frame\n",
    "df['email']\n",
    "# can also do it as\n",
    "# df. email\n",
    "# preferably Like this []"
   ]
  },
  {
   "cell_type": "code",
   "execution_count": 15,
   "metadata": {},
   "outputs": [
    {
     "data": {
      "text/plain": [
       "pandas.core.series.Series"
      ]
     },
     "execution_count": 15,
     "metadata": {},
     "output_type": "execute_result"
    }
   ],
   "source": [
    "type(df['email'])"
   ]
  },
  {
   "attachments": {},
   "cell_type": "markdown",
   "metadata": {},
   "source": [
    "series basically list of data with lot more functionality like dataframe also id basically means rows of data<br>\n",
    "series mein ek column hai aur bohot saari rows and dataframe mein multiple columns and multiple rows<br>\n",
    "dataframe is basically container for multiple series objects <br> \n",
    "can think of first column as series, last column as series and email column as series"
   ]
  },
  {
   "cell_type": "code",
   "execution_count": 16,
   "metadata": {},
   "outputs": [
    {
     "data": {
      "text/html": [
       "<div>\n",
       "<style scoped>\n",
       "    .dataframe tbody tr th:only-of-type {\n",
       "        vertical-align: middle;\n",
       "    }\n",
       "\n",
       "    .dataframe tbody tr th {\n",
       "        vertical-align: top;\n",
       "    }\n",
       "\n",
       "    .dataframe thead th {\n",
       "        text-align: right;\n",
       "    }\n",
       "</style>\n",
       "<table border=\"1\" class=\"dataframe\">\n",
       "  <thead>\n",
       "    <tr style=\"text-align: right;\">\n",
       "      <th></th>\n",
       "      <th>last</th>\n",
       "      <th>email</th>\n",
       "    </tr>\n",
       "  </thead>\n",
       "  <tbody>\n",
       "    <tr>\n",
       "      <th>0</th>\n",
       "      <td>Soni</td>\n",
       "      <td>rayirthsoni@gmail.com</td>\n",
       "    </tr>\n",
       "    <tr>\n",
       "      <th>1</th>\n",
       "      <td>Chawla</td>\n",
       "      <td>riyachawla@apple.com</td>\n",
       "    </tr>\n",
       "    <tr>\n",
       "      <th>2</th>\n",
       "      <td>Singh</td>\n",
       "      <td>vrindasingh@outlook.com</td>\n",
       "    </tr>\n",
       "  </tbody>\n",
       "</table>\n",
       "</div>"
      ],
      "text/plain": [
       "     last                    email\n",
       "0    Soni    rayirthsoni@gmail.com\n",
       "1  Chawla     riyachawla@apple.com\n",
       "2   Singh  vrindasingh@outlook.com"
      ]
     },
     "execution_count": 16,
     "metadata": {},
     "output_type": "execute_result"
    }
   ],
   "source": [
    "# access multiple columns\n",
    "df[['last','email']]\n",
    "# pass List of columns you want"
   ]
  },
  {
   "cell_type": "code",
   "execution_count": 17,
   "metadata": {},
   "outputs": [
    {
     "data": {
      "text/plain": [
       "Index(['first', 'last', 'email'], dtype='object')"
      ]
     },
     "execution_count": 17,
     "metadata": {},
     "output_type": "execute_result"
    }
   ],
   "source": [
    "# how to get columns in data frame\n",
    "df.columns"
   ]
  },
  {
   "cell_type": "code",
   "execution_count": 18,
   "metadata": {},
   "outputs": [
    {
     "data": {
      "text/plain": [
       "first                  Rayirth\n",
       "last                      Soni\n",
       "email    rayirthsoni@gmail.com\n",
       "Name: 0, dtype: object"
      ]
     },
     "execution_count": 18,
     "metadata": {},
     "output_type": "execute_result"
    }
   ],
   "source": [
    "# how to get row in dataframe use loc and iloc\n",
    "df.iloc[0]"
   ]
  },
  {
   "cell_type": "code",
   "execution_count": 19,
   "metadata": {},
   "outputs": [
    {
     "data": {
      "text/html": [
       "<div>\n",
       "<style scoped>\n",
       "    .dataframe tbody tr th:only-of-type {\n",
       "        vertical-align: middle;\n",
       "    }\n",
       "\n",
       "    .dataframe tbody tr th {\n",
       "        vertical-align: top;\n",
       "    }\n",
       "\n",
       "    .dataframe thead th {\n",
       "        text-align: right;\n",
       "    }\n",
       "</style>\n",
       "<table border=\"1\" class=\"dataframe\">\n",
       "  <thead>\n",
       "    <tr style=\"text-align: right;\">\n",
       "      <th></th>\n",
       "      <th>first</th>\n",
       "      <th>last</th>\n",
       "      <th>email</th>\n",
       "    </tr>\n",
       "  </thead>\n",
       "  <tbody>\n",
       "    <tr>\n",
       "      <th>0</th>\n",
       "      <td>Rayirth</td>\n",
       "      <td>Soni</td>\n",
       "      <td>rayirthsoni@gmail.com</td>\n",
       "    </tr>\n",
       "    <tr>\n",
       "      <th>1</th>\n",
       "      <td>Riya</td>\n",
       "      <td>Chawla</td>\n",
       "      <td>riyachawla@apple.com</td>\n",
       "    </tr>\n",
       "  </tbody>\n",
       "</table>\n",
       "</div>"
      ],
      "text/plain": [
       "     first    last                  email\n",
       "0  Rayirth    Soni  rayirthsoni@gmail.com\n",
       "1     Riya  Chawla   riyachawla@apple.com"
      ]
     },
     "execution_count": 19,
     "metadata": {},
     "output_type": "execute_result"
    }
   ],
   "source": [
    "# to access mulitple rows pass List of index\n",
    "df.iloc[[0,1]]\n"
   ]
  },
  {
   "cell_type": "code",
   "execution_count": 20,
   "metadata": {},
   "outputs": [
    {
     "data": {
      "text/plain": [
       "0    rayirthsoni@gmail.com\n",
       "1     riyachawla@apple.com\n",
       "Name: email, dtype: object"
      ]
     },
     "execution_count": 20,
     "metadata": {},
     "output_type": "execute_result"
    }
   ],
   "source": [
    "# with loc and iloc can select columns as well\n",
    "# for iloc\n",
    "# first pass row then column\n",
    "df. iloc[[0,1],2] # for iloc cant specify column name since they use integer location"
   ]
  },
  {
   "cell_type": "code",
   "execution_count": 21,
   "metadata": {},
   "outputs": [
    {
     "data": {
      "text/plain": [
       "first                  Rayirth\n",
       "last                      Soni\n",
       "email    rayirthsoni@gmail.com\n",
       "Name: 0, dtype: object"
      ]
     },
     "execution_count": 21,
     "metadata": {},
     "output_type": "execute_result"
    }
   ],
   "source": [
    "df.loc[0]"
   ]
  },
  {
   "cell_type": "code",
   "execution_count": 22,
   "metadata": {},
   "outputs": [
    {
     "data": {
      "text/plain": [
       "0    rayirthsoni@gmail.com\n",
       "1     riyachawla@apple.com\n",
       "Name: email, dtype: object"
      ]
     },
     "execution_count": 22,
     "metadata": {},
     "output_type": "execute_result"
    }
   ],
   "source": [
    "df.loc[[0, 1], 'email']"
   ]
  },
  {
   "cell_type": "code",
   "execution_count": 23,
   "metadata": {},
   "outputs": [
    {
     "data": {
      "text/html": [
       "<div>\n",
       "<style scoped>\n",
       "    .dataframe tbody tr th:only-of-type {\n",
       "        vertical-align: middle;\n",
       "    }\n",
       "\n",
       "    .dataframe tbody tr th {\n",
       "        vertical-align: top;\n",
       "    }\n",
       "\n",
       "    .dataframe thead th {\n",
       "        text-align: right;\n",
       "    }\n",
       "</style>\n",
       "<table border=\"1\" class=\"dataframe\">\n",
       "  <thead>\n",
       "    <tr style=\"text-align: right;\">\n",
       "      <th></th>\n",
       "      <th>email</th>\n",
       "      <th>last</th>\n",
       "    </tr>\n",
       "  </thead>\n",
       "  <tbody>\n",
       "    <tr>\n",
       "      <th>0</th>\n",
       "      <td>rayirthsoni@gmail.com</td>\n",
       "      <td>Soni</td>\n",
       "    </tr>\n",
       "    <tr>\n",
       "      <th>1</th>\n",
       "      <td>riyachawla@apple.com</td>\n",
       "      <td>Chawla</td>\n",
       "    </tr>\n",
       "  </tbody>\n",
       "</table>\n",
       "</div>"
      ],
      "text/plain": [
       "                   email    last\n",
       "0  rayirthsoni@gmail.com    Soni\n",
       "1   riyachawla@apple.com  Chawla"
      ]
     },
     "execution_count": 23,
     "metadata": {},
     "output_type": "execute_result"
    }
   ],
   "source": [
    "df.loc[[0, 1],['email', 'last']]"
   ]
  },
  {
   "cell_type": "code",
   "execution_count": 24,
   "metadata": {},
   "outputs": [],
   "source": [
    "df = pd.read_csv(survey_results_public_path)\n",
    "schema_df = pd.read_csv(survey_results_schema_path)"
   ]
  },
  {
   "cell_type": "code",
   "execution_count": 25,
   "metadata": {},
   "outputs": [
    {
     "data": {
      "text/html": [
       "<div>\n",
       "<style scoped>\n",
       "    .dataframe tbody tr th:only-of-type {\n",
       "        vertical-align: middle;\n",
       "    }\n",
       "\n",
       "    .dataframe tbody tr th {\n",
       "        vertical-align: top;\n",
       "    }\n",
       "\n",
       "    .dataframe thead th {\n",
       "        text-align: right;\n",
       "    }\n",
       "</style>\n",
       "<table border=\"1\" class=\"dataframe\">\n",
       "  <thead>\n",
       "    <tr style=\"text-align: right;\">\n",
       "      <th></th>\n",
       "      <th>version https://git-lfs.github.com/spec/v1</th>\n",
       "    </tr>\n",
       "  </thead>\n",
       "  <tbody>\n",
       "    <tr>\n",
       "      <th>0</th>\n",
       "      <td>oid sha256:adcbfc17e2a91bb8fe5e09665c55e20df3b...</td>\n",
       "    </tr>\n",
       "    <tr>\n",
       "      <th>1</th>\n",
       "      <td>size 108829270</td>\n",
       "    </tr>\n",
       "  </tbody>\n",
       "</table>\n",
       "</div>"
      ],
      "text/plain": [
       "          version https://git-lfs.github.com/spec/v1\n",
       "0  oid sha256:adcbfc17e2a91bb8fe5e09665c55e20df3b...\n",
       "1                                     size 108829270"
      ]
     },
     "execution_count": 25,
     "metadata": {},
     "output_type": "execute_result"
    }
   ],
   "source": [
    "df.head()"
   ]
  },
  {
   "cell_type": "code",
   "execution_count": 26,
   "metadata": {},
   "outputs": [
    {
     "data": {
      "text/html": [
       "<div>\n",
       "<style scoped>\n",
       "    .dataframe tbody tr th:only-of-type {\n",
       "        vertical-align: middle;\n",
       "    }\n",
       "\n",
       "    .dataframe tbody tr th {\n",
       "        vertical-align: top;\n",
       "    }\n",
       "\n",
       "    .dataframe thead th {\n",
       "        text-align: right;\n",
       "    }\n",
       "</style>\n",
       "<table border=\"1\" class=\"dataframe\">\n",
       "  <thead>\n",
       "    <tr style=\"text-align: right;\">\n",
       "      <th></th>\n",
       "      <th>version https://git-lfs.github.com/spec/v1</th>\n",
       "    </tr>\n",
       "  </thead>\n",
       "  <tbody>\n",
       "    <tr>\n",
       "      <th>0</th>\n",
       "      <td>oid sha256:51af70e09e44681b100600a1630678167b6...</td>\n",
       "    </tr>\n",
       "    <tr>\n",
       "      <th>1</th>\n",
       "      <td>size 14471</td>\n",
       "    </tr>\n",
       "  </tbody>\n",
       "</table>\n",
       "</div>"
      ],
      "text/plain": [
       "          version https://git-lfs.github.com/spec/v1\n",
       "0  oid sha256:51af70e09e44681b100600a1630678167b6...\n",
       "1                                         size 14471"
      ]
     },
     "execution_count": 26,
     "metadata": {},
     "output_type": "execute_result"
    }
   ],
   "source": [
    "schema_df"
   ]
  },
  {
   "cell_type": "code",
   "execution_count": 27,
   "metadata": {},
   "outputs": [
    {
     "data": {
      "text/plain": [
       "(2, 1)"
      ]
     },
     "execution_count": 27,
     "metadata": {},
     "output_type": "execute_result"
    }
   ],
   "source": [
    "# see how many columns and rows in dataframe\n",
    "df.shape"
   ]
  },
  {
   "cell_type": "code",
   "execution_count": 29,
   "metadata": {},
   "outputs": [
    {
     "data": {
      "text/html": [
       "<div>\n",
       "<style scoped>\n",
       "    .dataframe tbody tr th:only-of-type {\n",
       "        vertical-align: middle;\n",
       "    }\n",
       "\n",
       "    .dataframe tbody tr th {\n",
       "        vertical-align: top;\n",
       "    }\n",
       "\n",
       "    .dataframe thead th {\n",
       "        text-align: right;\n",
       "    }\n",
       "</style>\n",
       "<table border=\"1\" class=\"dataframe\">\n",
       "  <thead>\n",
       "    <tr style=\"text-align: right;\">\n",
       "      <th></th>\n",
       "      <th>version https://git-lfs.github.com/spec/v1</th>\n",
       "    </tr>\n",
       "  </thead>\n",
       "  <tbody>\n",
       "    <tr>\n",
       "      <th>0</th>\n",
       "      <td>oid sha256:adcbfc17e2a91bb8fe5e09665c55e20df3b...</td>\n",
       "    </tr>\n",
       "    <tr>\n",
       "      <th>1</th>\n",
       "      <td>size 108829270</td>\n",
       "    </tr>\n",
       "  </tbody>\n",
       "</table>\n",
       "</div>"
      ],
      "text/plain": [
       "          version https://git-lfs.github.com/spec/v1\n",
       "0  oid sha256:adcbfc17e2a91bb8fe5e09665c55e20df3b...\n",
       "1                                     size 108829270"
      ]
     },
     "execution_count": 29,
     "metadata": {},
     "output_type": "execute_result"
    }
   ],
   "source": [
    "df.head()"
   ]
  },
  {
   "cell_type": "code",
   "execution_count": 28,
   "metadata": {},
   "outputs": [
    {
     "ename": "KeyError",
     "evalue": "'CodingActivities'",
     "output_type": "error",
     "traceback": [
      "\u001b[0;31m---------------------------------------------------------------------------\u001b[0m",
      "\u001b[0;31mKeyError\u001b[0m                                  Traceback (most recent call last)",
      "File \u001b[0;32m/Library/Frameworks/Python.framework/Versions/3.12/lib/python3.12/site-packages/pandas/core/indexes/base.py:3805\u001b[0m, in \u001b[0;36mIndex.get_loc\u001b[0;34m(self, key)\u001b[0m\n\u001b[1;32m   3804\u001b[0m \u001b[39mtry\u001b[39;00m:\n\u001b[0;32m-> 3805\u001b[0m     \u001b[39mreturn\u001b[39;00m \u001b[39mself\u001b[39;49m\u001b[39m.\u001b[39;49m_engine\u001b[39m.\u001b[39;49mget_loc(casted_key)\n\u001b[1;32m   3806\u001b[0m \u001b[39mexcept\u001b[39;00m \u001b[39mKeyError\u001b[39;00m \u001b[39mas\u001b[39;00m err:\n",
      "File \u001b[0;32mindex.pyx:167\u001b[0m, in \u001b[0;36mpandas._libs.index.IndexEngine.get_loc\u001b[0;34m()\u001b[0m\n",
      "File \u001b[0;32mindex.pyx:196\u001b[0m, in \u001b[0;36mpandas._libs.index.IndexEngine.get_loc\u001b[0;34m()\u001b[0m\n",
      "File \u001b[0;32mpandas/_libs/hashtable_class_helper.pxi:7081\u001b[0m, in \u001b[0;36mpandas._libs.hashtable.PyObjectHashTable.get_item\u001b[0;34m()\u001b[0m\n",
      "File \u001b[0;32mpandas/_libs/hashtable_class_helper.pxi:7089\u001b[0m, in \u001b[0;36mpandas._libs.hashtable.PyObjectHashTable.get_item\u001b[0;34m()\u001b[0m\n",
      "\u001b[0;31mKeyError\u001b[0m: 'CodingActivities'",
      "\nThe above exception was the direct cause of the following exception:\n",
      "\u001b[0;31mKeyError\u001b[0m                                  Traceback (most recent call last)",
      "Cell \u001b[0;32mIn[28], line 2\u001b[0m\n\u001b[1;32m      1\u001b[0m \u001b[39m# get all response for hobbyist column\u001b[39;00m\n\u001b[0;32m----> 2\u001b[0m df [\u001b[39m'\u001b[39;49m\u001b[39mCodingActivities\u001b[39;49m\u001b[39m'\u001b[39;49m]\n",
      "File \u001b[0;32m/Library/Frameworks/Python.framework/Versions/3.12/lib/python3.12/site-packages/pandas/core/frame.py:4090\u001b[0m, in \u001b[0;36mDataFrame.__getitem__\u001b[0;34m(self, key)\u001b[0m\n\u001b[1;32m   4088\u001b[0m \u001b[39mif\u001b[39;00m \u001b[39mself\u001b[39m\u001b[39m.\u001b[39mcolumns\u001b[39m.\u001b[39mnlevels \u001b[39m>\u001b[39m \u001b[39m1\u001b[39m:\n\u001b[1;32m   4089\u001b[0m     \u001b[39mreturn\u001b[39;00m \u001b[39mself\u001b[39m\u001b[39m.\u001b[39m_getitem_multilevel(key)\n\u001b[0;32m-> 4090\u001b[0m indexer \u001b[39m=\u001b[39m \u001b[39mself\u001b[39;49m\u001b[39m.\u001b[39;49mcolumns\u001b[39m.\u001b[39;49mget_loc(key)\n\u001b[1;32m   4091\u001b[0m \u001b[39mif\u001b[39;00m is_integer(indexer):\n\u001b[1;32m   4092\u001b[0m     indexer \u001b[39m=\u001b[39m [indexer]\n",
      "File \u001b[0;32m/Library/Frameworks/Python.framework/Versions/3.12/lib/python3.12/site-packages/pandas/core/indexes/base.py:3812\u001b[0m, in \u001b[0;36mIndex.get_loc\u001b[0;34m(self, key)\u001b[0m\n\u001b[1;32m   3807\u001b[0m     \u001b[39mif\u001b[39;00m \u001b[39misinstance\u001b[39m(casted_key, \u001b[39mslice\u001b[39m) \u001b[39mor\u001b[39;00m (\n\u001b[1;32m   3808\u001b[0m         \u001b[39misinstance\u001b[39m(casted_key, abc\u001b[39m.\u001b[39mIterable)\n\u001b[1;32m   3809\u001b[0m         \u001b[39mand\u001b[39;00m \u001b[39many\u001b[39m(\u001b[39misinstance\u001b[39m(x, \u001b[39mslice\u001b[39m) \u001b[39mfor\u001b[39;00m x \u001b[39min\u001b[39;00m casted_key)\n\u001b[1;32m   3810\u001b[0m     ):\n\u001b[1;32m   3811\u001b[0m         \u001b[39mraise\u001b[39;00m InvalidIndexError(key)\n\u001b[0;32m-> 3812\u001b[0m     \u001b[39mraise\u001b[39;00m \u001b[39mKeyError\u001b[39;00m(key) \u001b[39mfrom\u001b[39;00m \u001b[39merr\u001b[39;00m\n\u001b[1;32m   3813\u001b[0m \u001b[39mexcept\u001b[39;00m \u001b[39mTypeError\u001b[39;00m:\n\u001b[1;32m   3814\u001b[0m     \u001b[39m# If we have a listlike key, _check_indexing_error will raise\u001b[39;00m\n\u001b[1;32m   3815\u001b[0m     \u001b[39m#  InvalidIndexError. Otherwise we fall through and re-raise\u001b[39;00m\n\u001b[1;32m   3816\u001b[0m     \u001b[39m#  the TypeError.\u001b[39;00m\n\u001b[1;32m   3817\u001b[0m     \u001b[39mself\u001b[39m\u001b[39m.\u001b[39m_check_indexing_error(key)\n",
      "\u001b[0;31mKeyError\u001b[0m: 'CodingActivities'"
     ]
    }
   ],
   "source": [
    "# get all response for hobbyist column\n",
    "df ['CodingActivities']"
   ]
  },
  {
   "attachments": {},
   "cell_type": "markdown",
   "metadata": {},
   "source": [
    "## Indexes"
   ]
  },
  {
   "attachments": {},
   "cell_type": "markdown",
   "metadata": {},
   "source": [
    "- df.set_index('email',inplace = True) --> want to change index of dataframe\n",
    "- - here we have changed email column as index\n",
    "- - inplace = True attribute is used to make this change permamnent.\n",
    "- df.index --> to check index of dataframe we use this\n",
    "- df.reset_index() --> this is done to reset index back to default one\n",
    "- df.sort_index(inplace = True) --> to sort indices if we want to make it permanent set inplace = True\n",
    "- - df.sort_index(ascending = False,inplace = True) --> to sort in descending order"
   ]
  },
  {
   "cell_type": "code",
   "execution_count": null,
   "metadata": {},
   "outputs": [],
   "source": [
    "import pandas as pd\n",
    "from IPython.core.interactiveshell import InteractiveShell\n",
    "InteractiveShell.ast_node_interactivity = \"all\""
   ]
  },
  {
   "cell_type": "code",
   "execution_count": null,
   "metadata": {},
   "outputs": [],
   "source": [
    "people = {\n",
    "\"first\" : [\"Rayirth\", \"Riya\", \"Vrinda\"],\n",
    "\"last\" : [\"Soni\", \"Chawla\", \"Sharma\"],\n",
    "\"email\" : [\"rayirthsoni@gmail.com\",\"riyachawla@icloud.com\",\"vrindasharma@outlook.com\"]\n",
    "}"
   ]
  },
  {
   "cell_type": "code",
   "execution_count": null,
   "metadata": {},
   "outputs": [],
   "source": [
    "df = pd.DataFrame(people)\n",
    "df"
   ]
  },
  {
   "cell_type": "code",
   "execution_count": null,
   "metadata": {},
   "outputs": [],
   "source": [
    "df['email']"
   ]
  },
  {
   "cell_type": "code",
   "execution_count": null,
   "metadata": {},
   "outputs": [],
   "source": [
    "df.set_index(\"email\",inplace = True)\n",
    "df"
   ]
  },
  {
   "cell_type": "code",
   "execution_count": null,
   "metadata": {},
   "outputs": [],
   "source": [
    "df.index"
   ]
  },
  {
   "cell_type": "code",
   "execution_count": null,
   "metadata": {},
   "outputs": [],
   "source": [
    "df.loc['rayirthsoni@gmail.com']"
   ]
  },
  {
   "cell_type": "code",
   "execution_count": null,
   "metadata": {},
   "outputs": [],
   "source": [
    "df.loc['rayirthsoni@gmail.com','last']"
   ]
  },
  {
   "cell_type": "code",
   "execution_count": null,
   "metadata": {},
   "outputs": [],
   "source": [
    "# if want to search by using integer like before then use iloc\n",
    "df.iloc[0]"
   ]
  },
  {
   "cell_type": "code",
   "execution_count": null,
   "metadata": {},
   "outputs": [],
   "source": [
    "# if want to reset index to earlier then\n",
    "df.reset_index(inplace = True)\n",
    "df"
   ]
  },
  {
   "attachments": {},
   "cell_type": "markdown",
   "metadata": {},
   "source": [
    "### Now doing for our downloaded file"
   ]
  },
  {
   "cell_type": "code",
   "execution_count": null,
   "metadata": {},
   "outputs": [],
   "source": [
    " # if you want to change index while reading only or if you know what column is to be set as index\n",
    "df = pd.read_csv(survey_results_public_path,index_col='ResponseId')\n",
    "schema_df = pd.read_csv(r\"C:\\Users\\rayir\\Desktop\\computer programs\\survey_results_schema.csv\",index_col='qname')"
   ]
  },
  {
   "cell_type": "code",
   "execution_count": null,
   "metadata": {},
   "outputs": [],
   "source": [
    "df"
   ]
  },
  {
   "cell_type": "code",
   "execution_count": null,
   "metadata": {},
   "outputs": [],
   "source": [
    "schema_df"
   ]
  },
  {
   "cell_type": "code",
   "execution_count": null,
   "metadata": {},
   "outputs": [],
   "source": [
    "pd.set_option ('display.max_rows', 85)\n",
    "pd.set_option ('display.max_columns', 85)"
   ]
  },
  {
   "cell_type": "code",
   "execution_count": null,
   "metadata": {},
   "outputs": [],
   "source": [
    "df.head()"
   ]
  },
  {
   "cell_type": "code",
   "execution_count": null,
   "metadata": {},
   "outputs": [],
   "source": [
    "schema_df"
   ]
  },
  {
   "cell_type": "code",
   "execution_count": null,
   "metadata": {},
   "outputs": [],
   "source": [
    "schema_df.loc[f\"SurveyLength\"] # enter column for which you want to search information"
   ]
  },
  {
   "cell_type": "code",
   "execution_count": null,
   "metadata": {},
   "outputs": [],
   "source": [
    "# now scroll through column name in df check one which doesn't make much sense to you and see what that means\n",
    "# if we only pass first argument that is for row here we will get all columns and their values can also pass column though try to do that as well\n",
    "schema_df.loc[\"ICorPM\",\"question\"] "
   ]
  },
  {
   "cell_type": "code",
   "execution_count": null,
   "metadata": {},
   "outputs": [],
   "source": [
    "# if you want to sort indices \n",
    "schema_df.sort_index()\n",
    "# if want to sort in descending order\n",
    "# schema_df.sort_index(ascending = False)\n",
    "# if want to make these changes permanent then pass argument inplace = True\n"
   ]
  },
  {
   "cell_type": "code",
   "execution_count": null,
   "metadata": {},
   "outputs": [],
   "source": [
    "schema_df"
   ]
  },
  {
   "attachments": {},
   "cell_type": "markdown",
   "metadata": {},
   "source": [
    "## Filtering"
   ]
  },
  {
   "attachments": {},
   "cell_type": "markdown",
   "metadata": {},
   "source": [
    "it is done to basically filter out specific data we want according to our needs\n",
    "- example : filt = (df['last_name'] == 'Chawla')\n",
    "- - this will now give all which has last_name Chawla so we can do like\n",
    "- - can filter further using |(or) &(and) ~(not)\n",
    "- df[filt] or df.loc[filt] --> we prefer doing loc as can filter further like\n",
    "- - df.loc[filt,'email']\n",
    "- suppose want to filter out countries\n",
    "- - countries = ['India','Canada','United States of America']\n",
    "- - filt = df['Country'].isin(countries)\n",
    "- using str.contains() --> here na is false cause might have nan values so to deal with it\n",
    "- - filt = df['LanguageHaveWorkedWith'].str.contains('Python',na = False)"
   ]
  },
  {
   "cell_type": "code",
   "execution_count": null,
   "metadata": {},
   "outputs": [],
   "source": [
    "import pandas as pd\n",
    "from IPython.core.interactiveshell import InteractiveShell\n",
    "InteractiveShell.ast_node_interactivity = \"all\""
   ]
  },
  {
   "cell_type": "code",
   "execution_count": null,
   "metadata": {},
   "outputs": [],
   "source": [
    "people = {\n",
    "    \"first_name\": [\"Rayirth\", \"Riya\", \"Vrinda\"],\n",
    "    \"last_name\": [\"Soni\", \"Chawla\", \"Chawla\"],\n",
    "    \"email\": [\"rayirthsoni@gmail.com\", \"riyachawla@icloud.com\", \"vrindachawla@outlook.com\"]\n",
    "}\n"
   ]
  },
  {
   "cell_type": "code",
   "execution_count": null,
   "metadata": {},
   "outputs": [],
   "source": [
    "df = pd.DataFrame(people)"
   ]
  },
  {
   "cell_type": "code",
   "execution_count": null,
   "metadata": {},
   "outputs": [],
   "source": [
    "filt = (df['last_name'] == 'Chawla')\n",
    "filt"
   ]
  },
  {
   "cell_type": "code",
   "execution_count": null,
   "metadata": {},
   "outputs": [],
   "source": [
    "type(filt)"
   ]
  },
  {
   "cell_type": "code",
   "execution_count": null,
   "metadata": {},
   "outputs": [],
   "source": [
    "# can also write as df[df['last'] == 'Chawla' ]\n",
    "df[filt]"
   ]
  },
  {
   "cell_type": "code",
   "execution_count": null,
   "metadata": {},
   "outputs": [],
   "source": [
    "df.loc[filt] \n",
    "# df loc[filt] and df[filt] give same result can do anyways but prefer . loc one cause can further index rows and columns in . loc attribute"
   ]
  },
  {
   "cell_type": "code",
   "execution_count": null,
   "metadata": {},
   "outputs": [],
   "source": [
    "df.loc[filt,'email']"
   ]
  },
  {
   "cell_type": "code",
   "execution_count": null,
   "metadata": {},
   "outputs": [],
   "source": [
    "# can also use &(and) |(or) while filtering\n",
    "filt = ((df['last_name'] == 'Chawla') & (df['first_name'] == 'Riya'))"
   ]
  },
  {
   "cell_type": "code",
   "execution_count": null,
   "metadata": {},
   "outputs": [],
   "source": [
    "df.loc[filt,'email']"
   ]
  },
  {
   "cell_type": "code",
   "execution_count": null,
   "metadata": {},
   "outputs": [],
   "source": [
    "filt = ((df['last_name'] == 'Soni') | (df['first_name'] == 'Riya'))"
   ]
  },
  {
   "cell_type": "code",
   "execution_count": null,
   "metadata": {},
   "outputs": [],
   "source": [
    "df.loc[filt, 'email']"
   ]
  },
  {
   "cell_type": "code",
   "execution_count": null,
   "metadata": {},
   "outputs": [],
   "source": [
    "df.loc[~filt, 'email'] # can also negate like this"
   ]
  },
  {
   "attachments": {},
   "cell_type": "markdown",
   "metadata": {},
   "source": [
    "### Now doing for our downloaded data"
   ]
  },
  {
   "cell_type": "code",
   "execution_count": null,
   "metadata": {},
   "outputs": [],
   "source": [
    "df = pd.read_csv(survey_results_public_path,index_col = \"ResponseId\")\n",
    "schema_df = pd.read_csv (survey_results_schema_path, index_col = \"qname\")"
   ]
  },
  {
   "cell_type": "code",
   "execution_count": null,
   "metadata": {},
   "outputs": [],
   "source": [
    "pd.set_option('display.max_rows',85)\n",
    "pd.set_option('display.max_columns',85)"
   ]
  },
  {
   "cell_type": "code",
   "execution_count": null,
   "metadata": {},
   "outputs": [],
   "source": [
    "df.head()"
   ]
  },
  {
   "cell_type": "code",
   "execution_count": null,
   "metadata": {},
   "outputs": [],
   "source": [
    "# now suppose filter according to salary check first via schema_ df \n",
    "# which column gives us salary then do following or maybe do for other filter\n",
    "schema_df.sort_index(inplace = True)\n",
    "schema_df\n"
   ]
  },
  {
   "cell_type": "code",
   "execution_count": null,
   "metadata": {},
   "outputs": [],
   "source": [
    "high_exp = (df['WorkExp'] > 7) # say doing for salary and if it is higher than 80000 then it is high\n",
    "high_exp"
   ]
  },
  {
   "cell_type": "code",
   "execution_count": null,
   "metadata": {},
   "outputs": [],
   "source": [
    "df.loc[high_exp]"
   ]
  },
  {
   "cell_type": "code",
   "execution_count": null,
   "metadata": {},
   "outputs": [],
   "source": [
    "df.loc[high_exp, ['YearsCodePro','LearnCode','Country']] # say you want to get some columns for dataset like \n",
    "# maybe country, salary, languages they worked in etc check via schema_df then enter"
   ]
  },
  {
   "cell_type": "code",
   "execution_count": null,
   "metadata": {},
   "outputs": [],
   "source": [
    "# suppose want to filter out countries\n",
    "countries = ['India','Canada','United States of America']\n",
    "filt = df['Country'].isin(countries)"
   ]
  },
  {
   "cell_type": "code",
   "execution_count": null,
   "metadata": {},
   "outputs": [],
   "source": [
    "df.loc[filt, 'Country'] # only get country to check if correct"
   ]
  },
  {
   "cell_type": "code",
   "execution_count": null,
   "metadata": {},
   "outputs": [],
   "source": [
    "# filter strings\n",
    "# say out of all languages if python is in Language person worked or not get that\n",
    "filt = df['LanguageHaveWorkedWith'].str.contains( 'Python',na = False) # here na is False cause nan values must be done so else will give error"
   ]
  },
  {
   "cell_type": "code",
   "execution_count": null,
   "metadata": {},
   "outputs": [],
   "source": [
    "df.loc[filt, 'LanguageHaveWorkedWith'] # here in this single quote put column which done above in filt"
   ]
  },
  {
   "attachments": {},
   "cell_type": "markdown",
   "metadata": {},
   "source": [
    "## Updating Rows and Columns"
   ]
  },
  {
   "cell_type": "code",
   "execution_count": null,
   "metadata": {},
   "outputs": [],
   "source": [
    "import pandas as pd\n",
    "from IPython.core.interactiveshell import InteractiveShell\n",
    "InteractiveShell.ast_node_interactivity = \"all\""
   ]
  },
  {
   "cell_type": "code",
   "execution_count": null,
   "metadata": {},
   "outputs": [],
   "source": [
    "people = {\n",
    "    \"first\": [\"Rayirth\", \"Riya\", \"Vrinda\"],\n",
    "    \"last\": [\"Soni\", \"Chawla\", \"Chawla\"],\n",
    "    \"email\": [\"rayirthsoni@gmail.com\", \"riyachawla@icloud.com\", \"vrindachawla@outlook.com\"]\n",
    "}\n"
   ]
  },
  {
   "cell_type": "code",
   "execution_count": null,
   "metadata": {},
   "outputs": [],
   "source": [
    "df = pd.DataFrame (people)\n",
    "df"
   ]
  },
  {
   "cell_type": "code",
   "execution_count": null,
   "metadata": {},
   "outputs": [],
   "source": [
    "df.columns # to see columns we have in our dataframe"
   ]
  },
  {
   "cell_type": "code",
   "execution_count": null,
   "metadata": {},
   "outputs": [],
   "source": [
    "# now suppose want to change column name to first name, last name, email then do this\n",
    "# this way is done when want to change all column names\n",
    "df.columns = ['first_name', 'last_name', 'email']\n",
    "df\n"
   ]
  },
  {
   "cell_type": "code",
   "execution_count": null,
   "metadata": {},
   "outputs": [],
   "source": [
    "df.columns = [x.lower() for x in df. columns] # can do upper as well if want\n",
    "df"
   ]
  },
  {
   "cell_type": "code",
   "execution_count": null,
   "metadata": {},
   "outputs": [],
   "source": [
    "df.columns = df.columns.str.replace(\" \",\"_\") # will replace all spaces with _\n",
    "df"
   ]
  },
  {
   "cell_type": "code",
   "execution_count": null,
   "metadata": {},
   "outputs": [],
   "source": [
    "# if want to do for some specific columns\n",
    "df.rename (columns = {\"first_name\": \"first\", \"last_name\": \"last\"}, inplace = True) # also need to do inplace here if want to make permanent\n",
    "df"
   ]
  },
  {
   "cell_type": "code",
   "execution_count": null,
   "metadata": {},
   "outputs": [],
   "source": [
    "# Now doing for rows\n",
    "df.loc[2] = ['Vrinda', 'Sharma', 'vrindasharma@outlook.com'] # if want to change values for all columns\n",
    "df\n"
   ]
  },
  {
   "cell_type": "code",
   "execution_count": null,
   "metadata": {},
   "outputs": [],
   "source": [
    "# if want to change values for some columns\n",
    "df.loc[2,['last', 'email']] = ['Chawla','vrindachawla@outlook.com' ] # here we changed for only Last and email column\n",
    "df"
   ]
  },
  {
   "cell_type": "code",
   "execution_count": null,
   "metadata": {},
   "outputs": [],
   "source": [
    "# if want to change value for one column then\n",
    "df.loc[2, 'last'] = 'Sharma'\n",
    "df"
   ]
  },
  {
   "cell_type": "code",
   "execution_count": null,
   "metadata": {},
   "outputs": [],
   "source": [
    "# can also change value for one column using at\n",
    "df.at [2, 'last'] ='Chawla'\n",
    "df"
   ]
  },
  {
   "cell_type": "code",
   "execution_count": null,
   "metadata": {},
   "outputs": [],
   "source": [
    "# one common mistake people make\n",
    "''' \n",
    "filt = df['email'] == 'vrindachawla@outlook.com'\n",
    "df[filt]\n",
    "df[filt]['last'] = 'Sharma'\n",
    "df\n",
    "'''"
   ]
  },
  {
   "cell_type": "code",
   "execution_count": null,
   "metadata": {},
   "outputs": [],
   "source": [
    "# if actually want to change values for above then use loc iloc or at\n",
    "filt = df['email'] == 'vrindachawla@outlook.com'\n",
    "df.loc[filt, 'last'] = 'Chawla'\n",
    "df"
   ]
  },
  {
   "cell_type": "code",
   "execution_count": null,
   "metadata": {},
   "outputs": [],
   "source": [
    "# if want to make all entries in email lower\n",
    "df['email'] = df['email'].str.lower()\n",
    "df"
   ]
  },
  {
   "cell_type": "code",
   "execution_count": null,
   "metadata": {},
   "outputs": [],
   "source": [
    "# apply --> call function on our values can work on dataframe and series of objects\n",
    "df['email'].apply(len)"
   ]
  },
  {
   "cell_type": "code",
   "execution_count": null,
   "metadata": {},
   "outputs": [],
   "source": [
    "def update_email(ds):\n",
    "    return ds.upper()\n",
    "df['email'].apply(update_email)\n",
    "df\n",
    "# now if want to make this permanent then we will do\n",
    "df['email'] = df['email'].apply(update_email)\n",
    "df"
   ]
  },
  {
   "cell_type": "code",
   "execution_count": null,
   "metadata": {},
   "outputs": [],
   "source": [
    "# now here changing back to lower case using lambda\n",
    "df['email'].apply(lambda x : x.lower())\n",
    "df"
   ]
  },
  {
   "cell_type": "code",
   "execution_count": null,
   "metadata": {},
   "outputs": [],
   "source": [
    "df.apply(len,axis='columns')\n",
    "df.apply(len,axis='rows')"
   ]
  },
  {
   "cell_type": "code",
   "execution_count": null,
   "metadata": {},
   "outputs": [],
   "source": [
    "df.apply(pd.Series.min)\n",
    "df.apply(lambda x : x.min())"
   ]
  },
  {
   "cell_type": "code",
   "execution_count": null,
   "metadata": {},
   "outputs": [],
   "source": [
    "# apply() on series applies function on every values in series and apply on dataframe applies function on series dataframe has\n",
    "# applymap() --> applies function on every value in dataframe.doesnt work with series"
   ]
  },
  {
   "cell_type": "code",
   "execution_count": null,
   "metadata": {},
   "outputs": [],
   "source": [
    "df.applymap(len)\n",
    "# want to change all values datafrane gas\n",
    "df.applymap(str.lower)"
   ]
  },
  {
   "cell_type": "code",
   "execution_count": null,
   "metadata": {},
   "outputs": [],
   "source": [
    "# map --> only works on series.subtitute value in series with another value.\n",
    "df_copy = df.copy()\n",
    "df_copy\n",
    "df_copy = df['first'].map({\"Vrinda\" : \"Arya\"}) # this will put nan at values not entered so use replace\n",
    "df_copy"
   ]
  },
  {
   "cell_type": "code",
   "execution_count": null,
   "metadata": {},
   "outputs": [],
   "source": [
    "# replace\n",
    "df['first'] = df['first'].replace({\"Vrinda\" : \"Arya\"})\n",
    "df['email'] = df['email'].apply(lambda x : x.lower())\n",
    "df"
   ]
  },
  {
   "attachments": {},
   "cell_type": "markdown",
   "metadata": {},
   "source": [
    "### Now doing for our downloaded data"
   ]
  },
  {
   "cell_type": "code",
   "execution_count": null,
   "metadata": {},
   "outputs": [],
   "source": [
    "df = pd.read_csv(survey_results_public_path,index_col='ResponseId')\n",
    "schema_df = pd.read_csv(survey_results_schema_path,index_col='qid')"
   ]
  },
  {
   "cell_type": "code",
   "execution_count": null,
   "metadata": {},
   "outputs": [],
   "source": [
    "df.head()\n",
    "schema_df.head()"
   ]
  },
  {
   "cell_type": "code",
   "execution_count": null,
   "metadata": {},
   "outputs": [],
   "source": [
    "df.rename(columns={\"MainBranch\" : \"Main_Branch\"},inplace=True)\n",
    "df"
   ]
  },
  {
   "attachments": {},
   "cell_type": "markdown",
   "metadata": {},
   "source": [
    "## Add/Remove rows & columns"
   ]
  },
  {
   "cell_type": "code",
   "execution_count": null,
   "metadata": {},
   "outputs": [],
   "source": [
    "import pandas as pd\n",
    "from IPython.core.interactiveshell import InteractiveShell\n",
    "InteractiveShell.ast_node_interactivity = \"all\""
   ]
  },
  {
   "cell_type": "code",
   "execution_count": null,
   "metadata": {},
   "outputs": [],
   "source": [
    "people = \\\n",
    "{\n",
    "    'first_name' : ['Rayirth','Riya','Mallika'],\n",
    "    'last_name' : ['Soni','Chawla','Singh'],\n",
    "    'email' : ['rayirthsoni04@gmail.com','riyachawla@icloud.com','mallikasingh@outlook.com']\n",
    "}\n",
    "df = pd.DataFrame(people)\n",
    "df"
   ]
  },
  {
   "cell_type": "code",
   "execution_count": null,
   "metadata": {},
   "outputs": [],
   "source": [
    "# combining first_name and last_name into full name\n",
    "df['full_name'] = df.apply(lambda x: x['first_name'] + ' ' + x['last_name'],axis=1)\n",
    "df\n",
    "# df['full_name'] = df['first_name'] + ' ' + df['last_name']"
   ]
  },
  {
   "cell_type": "code",
   "execution_count": null,
   "metadata": {},
   "outputs": [],
   "source": [
    "# if want to remove first_name and last_name\n",
    "df.drop(columns=['first_name','last_name'],inplace=True)\n",
    "df"
   ]
  },
  {
   "cell_type": "code",
   "execution_count": null,
   "metadata": {},
   "outputs": [],
   "source": [
    "# want to get multiple columns via splitting\n",
    "df[['first_name','last_name']] = df['full_name'].str.split(' ',expand=True)\n",
    "df"
   ]
  },
  {
   "cell_type": "code",
   "execution_count": null,
   "metadata": {},
   "outputs": [],
   "source": [
    "# add a single row\n",
    "# df.append({'first_name' : 'Ritik'},ignore_index=True)\n",
    "sr1 = pd.DataFrame({'first_name':['Ritik'],'last_name' : ['Garg']})\n",
    "df = pd.concat([df,sr1],ignore_index=True,axis=0)\n",
    "df"
   ]
  },
  {
   "cell_type": "code",
   "execution_count": null,
   "metadata": {},
   "outputs": [],
   "source": [
    "# combining 2 dataframes together\n",
    "people2 = \\\n",
    "{\n",
    "    'first_name' : ['Hersh','Rohan'],\n",
    "    'last_name' : ['Pathak','Gopal'],\n",
    "    'email' : ['hershpathak@airplane.com','rohangopal@filmmaking.com'],\n",
    "    'full_name' : ['Hersh Pathak','Rohan Gopal']\n",
    "}\n",
    "df2 = pd.DataFrame(people2)\n",
    "df2\n",
    "df = pd.concat([df,df2],ignore_index=True,axis=0,sort=False)\n",
    "df"
   ]
  },
  {
   "cell_type": "code",
   "execution_count": null,
   "metadata": {},
   "outputs": [],
   "source": [
    "# remove row\n",
    "df.drop(index=4,inplace=True)\n",
    "df"
   ]
  },
  {
   "cell_type": "code",
   "execution_count": null,
   "metadata": {},
   "outputs": [],
   "source": [
    "filt = (df['last_name'] == 'Chawla')\n",
    "df.loc[filt]\n",
    "df.drop(index= df[filt].index)"
   ]
  },
  {
   "attachments": {},
   "cell_type": "markdown",
   "metadata": {},
   "source": [
    "## Sorting"
   ]
  },
  {
   "cell_type": "code",
   "execution_count": null,
   "metadata": {},
   "outputs": [],
   "source": [
    "import pandas as pd\n",
    "from IPython.core.interactiveshell import InteractiveShell\n",
    "InteractiveShell.ast_node_interactivity = \"all\""
   ]
  },
  {
   "cell_type": "code",
   "execution_count": null,
   "metadata": {},
   "outputs": [],
   "source": [
    "people = \\\n",
    "    {\n",
    "        'first_name': ['Rayirth', 'Riya', 'Mallika', 'Hersh', 'Nitin', 'Corey','Vrinda'],\n",
    "        'last_name': ['Soni', 'Chawla', 'Singh', 'Pathak', 'Gupta', 'Schaffer','Chawla'],\n",
    "        'email': ['rayirthsoni04@gmail.com', 'riyachawla@icloud.com', 'mallikasingh@outlook.com', 'hershpathak@airplane.com', 'nitingupta@amazon.com', 'coreyschaffer@youtube.com','vrindachawla@sales.com']\n",
    "    }\n",
    "df = pd.DataFrame(people)\n",
    "df\n"
   ]
  },
  {
   "cell_type": "code",
   "execution_count": null,
   "metadata": {},
   "outputs": [],
   "source": [
    "df.sort_values(by='last_name',ascending=False) # descending order according to last_name\n",
    "df.sort_values(by=['last_name','first_name'],ascending=False) # here first sort according to last_name and then first_name\n",
    "# if last_name same then will do according to first_name\n"
   ]
  },
  {
   "cell_type": "code",
   "execution_count": null,
   "metadata": {},
   "outputs": [],
   "source": [
    "df.sort_values(by=['last_name','first_name'],ascending=[False,True],inplace=True) # here last_name descending and then first_name ascending\n"
   ]
  },
  {
   "cell_type": "code",
   "execution_count": null,
   "metadata": {},
   "outputs": [],
   "source": [
    "df.sort_index(inplace=True)\n",
    "df"
   ]
  },
  {
   "cell_type": "code",
   "execution_count": null,
   "metadata": {},
   "outputs": [],
   "source": [
    "df['last_name'].sort_values()"
   ]
  },
  {
   "attachments": {},
   "cell_type": "markdown",
   "metadata": {},
   "source": [
    "### Now doing for our downloaded data"
   ]
  },
  {
   "cell_type": "code",
   "execution_count": null,
   "metadata": {},
   "outputs": [],
   "source": [
    "import pandas as pd\n",
    "from IPython.core.interactiveshell import InteractiveShell\n",
    "InteractiveShell.ast_node_interactivity = \"all\""
   ]
  },
  {
   "cell_type": "code",
   "execution_count": null,
   "metadata": {},
   "outputs": [],
   "source": [
    "df = pd.read_csv(survey_results_public_path)\n",
    "schema_df = pd.read_csv(survey_results_schema_path)"
   ]
  },
  {
   "cell_type": "code",
   "execution_count": null,
   "metadata": {},
   "outputs": [],
   "source": [
    "df"
   ]
  },
  {
   "cell_type": "code",
   "execution_count": null,
   "metadata": {},
   "outputs": [],
   "source": [
    "df.sort_values(by='Country',inplace=True)\n",
    "df[['Country','CompTotal']]"
   ]
  },
  {
   "cell_type": "code",
   "execution_count": null,
   "metadata": {},
   "outputs": [],
   "source": [
    "df['CompTotal'].nlargest(10)\n",
    "df.nsmallest(10,'CompTotal')"
   ]
  },
  {
   "attachments": {},
   "cell_type": "markdown",
   "metadata": {},
   "source": [
    "## Grouping and Aggregating"
   ]
  },
  {
   "cell_type": "code",
   "execution_count": null,
   "metadata": {},
   "outputs": [],
   "source": [
    "import pandas as pd\n",
    "from IPython.core.interactiveshell import InteractiveShell\n",
    "InteractiveShell.ast_node_interactivity = \"all\""
   ]
  },
  {
   "cell_type": "code",
   "execution_count": null,
   "metadata": {},
   "outputs": [],
   "source": [
    "df = pd.read_csv(survey_results_public_path,index_col='ResponseId')\n",
    "schema_df = pd.read_csv(survey_results_schema_path,index_col='qid')"
   ]
  },
  {
   "cell_type": "code",
   "execution_count": null,
   "metadata": {},
   "outputs": [],
   "source": [
    "pd.set_option('display.max_rows',100)\n",
    "pd.set_option('display.max_columns',100)"
   ]
  },
  {
   "cell_type": "code",
   "execution_count": null,
   "metadata": {},
   "outputs": [],
   "source": [
    "schema_df.head(60)"
   ]
  },
  {
   "cell_type": "code",
   "execution_count": null,
   "metadata": {},
   "outputs": [],
   "source": [
    "df.rename(columns={'CompTotal' : 'Total_Pay'},inplace=True)\n",
    "df"
   ]
  },
  {
   "cell_type": "code",
   "execution_count": null,
   "metadata": {},
   "outputs": [],
   "source": [
    "df['Total_Pay'].median()\n",
    "df.median()\n",
    "df.describe()\n",
    "df['Total_Pay'].count()"
   ]
  },
  {
   "cell_type": "code",
   "execution_count": null,
   "metadata": {},
   "outputs": [],
   "source": [
    "df['OpSysProfessional use'].value_counts()\n",
    "df['OpSysPersonal use'].value_counts(normalize=True)"
   ]
  },
  {
   "cell_type": "code",
   "execution_count": null,
   "metadata": {},
   "outputs": [],
   "source": [
    "df['Country'].value_counts()"
   ]
  },
  {
   "cell_type": "code",
   "execution_count": null,
   "metadata": {},
   "outputs": [],
   "source": [
    "country_grp = df.groupby(['Country'])\n",
    "country_grp\n",
    "country_grp.get_group('United States of America')"
   ]
  },
  {
   "cell_type": "code",
   "execution_count": null,
   "metadata": {},
   "outputs": [],
   "source": [
    "# this is quite similar to filter\n",
    "filt = (df['Country'] == 'United States of America')\n",
    "df.loc[filt]"
   ]
  },
  {
   "cell_type": "code",
   "execution_count": null,
   "metadata": {},
   "outputs": [],
   "source": [
    "df.loc[filt]['YearsCode'].value_counts() # counting values according to YearsCode"
   ]
  },
  {
   "cell_type": "code",
   "execution_count": null,
   "metadata": {},
   "outputs": [],
   "source": [
    "country_grp['YearsCode'].value_counts().head(60) # here will get grp according too country for yearscode"
   ]
  },
  {
   "cell_type": "code",
   "execution_count": null,
   "metadata": {},
   "outputs": [],
   "source": [
    "country_grp['YearsCode'].value_counts().loc['India'] # say want to get particular country here\n",
    "country_grp['YearsCode'].value_counts(normalize=True).loc['India'] # if want to get values in percentage do like this"
   ]
  },
  {
   "cell_type": "code",
   "execution_count": null,
   "metadata": {},
   "outputs": [],
   "source": [
    "country_grp['Total_Pay'].median()\n",
    "country_grp['Total_Pay'].mean()"
   ]
  },
  {
   "cell_type": "code",
   "execution_count": null,
   "metadata": {},
   "outputs": [],
   "source": [
    "country_grp['Total_Pay'].agg(['median','mean'])"
   ]
  },
  {
   "cell_type": "code",
   "execution_count": null,
   "metadata": {},
   "outputs": [],
   "source": [
    "filt = (df['Country'] == 'India')\n",
    "# df.loc[filt]['LanguageHaveWorkedWith'].str.contains('Python').sum()\n",
    "df.loc[filt,'LanguageHaveWorkedWith'].str.contains('Python').sum()\n",
    "# here sum is used to calculate number of people who answered true\n",
    "# true = 1 and false = 0"
   ]
  },
  {
   "cell_type": "code",
   "execution_count": null,
   "metadata": {},
   "outputs": [],
   "source": [
    "# country_grp['LanguageHaveWorkedWith'].str.contains('Python').sum() can not do this way in grp use apply\n",
    "country_grp['LanguageHaveWorkedWith'].apply(lambda x : x.str.contains('Python').sum())\n",
    "country_grp['LanguageHaveWorkedWith'].apply(lambda x : x.str.contains('Python').value_counts(normalize=True))"
   ]
  },
  {
   "attachments": {},
   "cell_type": "markdown",
   "metadata": {},
   "source": [
    "## Cleaning Data - Missing Values & Casting Dataypes"
   ]
  },
  {
   "cell_type": "code",
   "execution_count": null,
   "metadata": {},
   "outputs": [],
   "source": [
    "import pandas as pd\n",
    "import numpy as np\n",
    "from IPython.core.interactiveshell import InteractiveShell\n",
    "InteractiveShell.ast_node_interactivity = \"all\""
   ]
  },
  {
   "cell_type": "code",
   "execution_count": null,
   "metadata": {},
   "outputs": [],
   "source": [
    "people = \\\n",
    "{\n",
    "    \"first\" : [\"Rayirth\",\"Riya\",\"Corey\",\"Hersh\",\"Vrinda\",\"Aryan\",\"Arya\",\"Mike\",np.nan,None,'NA'],\n",
    "    \"last\" : [\"Soni\",\"Chawla\",\"Schafer\",\"Pathak\",\"Chawla\",\"Singh\",\"Chawla\",\"Smith\",np.nan,np.nan,'Missing'],\n",
    "    \"email\" : [\"rayirthsoni@gmail.com\",\"riyachawla@icloud.com\",\"coreyschafer@youtube.com\",\"hershpathak@airplane.com\",\"vrindachawla@ca.com\",\"aryansingh@samsung.com\",\"aryachawla@c.com\",None,np.nan,\"anonymous@email.com\",'NA'],\n",
    "    \"age\" : [\"20\",\"21\",\"28\",\"22\",\"24\",\"30\",\"19\",\"42\",None,None,'Missing']\n",
    "}"
   ]
  },
  {
   "cell_type": "code",
   "execution_count": null,
   "metadata": {},
   "outputs": [],
   "source": [
    "df = pd.DataFrame(people)\n",
    "df"
   ]
  },
  {
   "cell_type": "code",
   "execution_count": null,
   "metadata": {},
   "outputs": [],
   "source": [
    "df.dropna() # here have dropped those where we had NaN values ie np.nan\n",
    "df.dropna(axis='index',how='any') # this is same as up basically these are value of parameters when we do above\n",
    "df.dropna(axis='columns',how='all')\n",
    "df.dropna(axis='columns',how='any')\n",
    "df.dropna(axis='index',how='any',subset=['last','email'])\n",
    "df.dropna(axis='index',how='all',subset=['last','email'])"
   ]
  },
  {
   "cell_type": "code",
   "execution_count": null,
   "metadata": {},
   "outputs": [],
   "source": [
    "# now to deal with Missing and NA which user typed rather than using np.nan we will do\n",
    "df.replace(\"NA\",np.nan,inplace=True)\n",
    "df.replace(\"Missing\",np.nan,inplace=True)\n",
    "df"
   ]
  },
  {
   "cell_type": "code",
   "execution_count": null,
   "metadata": {},
   "outputs": [],
   "source": [
    "df.dropna() # here have dropped those where we had NaN values ie np.nan\n",
    "df.dropna(axis='index',how='any') # this is same as up basically these are value of parameters when we do above\n",
    "df.dropna(axis='columns',how='all')\n",
    "df.dropna(axis='columns',how='any')\n",
    "df.dropna(axis='index',how='any',subset=['last','email'])\n",
    "df.dropna(axis='index',how='all',subset=['last','email'])"
   ]
  },
  {
   "cell_type": "code",
   "execution_count": null,
   "metadata": {},
   "outputs": [],
   "source": [
    "df.isna()\n",
    "df.fillna(\"Missing\")\n",
    "df.fillna(0) # in numerical can use 0 for calculation or any other according to our requirements"
   ]
  },
  {
   "cell_type": "code",
   "execution_count": null,
   "metadata": {},
   "outputs": [],
   "source": [
    "df.dtypes\n",
    "df['age'] = df['age'].astype(float) # here used float as np.nan is float and will give error if try do to int\n",
    "df.dtypes\n",
    "df['age'].mean()"
   ]
  },
  {
   "attachments": {},
   "cell_type": "markdown",
   "metadata": {},
   "source": [
    "### Now doing for our downloaded data"
   ]
  },
  {
   "cell_type": "code",
   "execution_count": null,
   "metadata": {},
   "outputs": [],
   "source": [
    "import pandas as pd\n",
    "import numpy as np\n",
    "from IPython.core.interactiveshell import InteractiveShell\n",
    "InteractiveShell.ast_node_interactivity = \"all\"\n"
   ]
  },
  {
   "cell_type": "code",
   "execution_count": null,
   "metadata": {},
   "outputs": [],
   "source": [
    "na_vals = ['Missing','NA']\n",
    "# na_values will change it to NaN\n",
    "df = pd.read_csv(survey_results_public_path,index_col = \"ResponseId\",na_values=na_vals)\n",
    "schema_df = pd.read_csv (survey_results_schema_path, index_col = \"qname\")\n",
    "pd.set_option('display.max_rows',85)\n",
    "pd.set_option('display.max_columns',85)\n",
    "df_1 = df.copy()\n",
    "df_1.head()"
   ]
  },
  {
   "cell_type": "code",
   "execution_count": null,
   "metadata": {},
   "outputs": [],
   "source": [
    "df_1['YearsCode'].dtypes\n",
    "df_1['YearsCode'].unique()\n",
    "df_1['YearsCode'].value_counts()\n",
    "df_1.replace({\"More than 50 years\" : 51,\"Less than 1 year\" : 0},inplace = True)\n",
    "df_1['YearsCode'].unique()\n",
    "df_1['YearsCode'].value_counts()\n",
    "# df['YearsCode'].mean()"
   ]
  },
  {
   "cell_type": "code",
   "execution_count": null,
   "metadata": {},
   "outputs": [],
   "source": [
    "df_1['YearsCode'] = df_1['YearsCode'].astype(float)\n",
    "df_1['YearsCode'].mean()\n",
    "df_1['YearsCode'].median()"
   ]
  },
  {
   "attachments": {},
   "cell_type": "markdown",
   "metadata": {},
   "source": [
    "## Datetime time series"
   ]
  },
  {
   "cell_type": "code",
   "execution_count": null,
   "metadata": {},
   "outputs": [],
   "source": []
  },
  {
   "attachments": {},
   "cell_type": "markdown",
   "metadata": {},
   "source": [
    "## Excel, SQL, JSON"
   ]
  },
  {
   "cell_type": "code",
   "execution_count": null,
   "metadata": {},
   "outputs": [],
   "source": []
  },
  {
   "attachments": {},
   "cell_type": "markdown",
   "metadata": {},
   "source": [
    "### Keith Galli"
   ]
  },
  {
   "attachments": {},
   "cell_type": "markdown",
   "metadata": {},
   "source": [
    "#### Load datas into pandas"
   ]
  },
  {
   "attachments": {},
   "cell_type": "markdown",
   "metadata": {},
   "source": [
    "> this is for csv file"
   ]
  },
  {
   "cell_type": "code",
   "execution_count": null,
   "metadata": {},
   "outputs": [],
   "source": [
    "# df basically is dataframe\n",
    "df = pd.read_csv(r'C:\\Users\\rayir\\Desktop\\computer programs\\Python Modules Tutorial\\pokemon_data.csv')"
   ]
  },
  {
   "cell_type": "code",
   "execution_count": null,
   "metadata": {},
   "outputs": [],
   "source": [
    "# print entire data\n",
    "print(df)"
   ]
  },
  {
   "cell_type": "code",
   "execution_count": null,
   "metadata": {},
   "outputs": [],
   "source": [
    "# in case you only want to print top n number of rows, say n=5\n",
    "print(df.head(5))\n"
   ]
  },
  {
   "cell_type": "code",
   "execution_count": null,
   "metadata": {},
   "outputs": [],
   "source": [
    "# in case you only want to print bottom n number of rows, say n=5\n",
    "print(df.tail(5))"
   ]
  },
  {
   "attachments": {},
   "cell_type": "markdown",
   "metadata": {},
   "source": [
    "> If it was an excel file"
   ]
  },
  {
   "cell_type": "code",
   "execution_count": null,
   "metadata": {},
   "outputs": [],
   "source": [
    "df_xlsx = pd.read_excel(r'C:\\Users\\rayir\\Desktop\\computer programs\\Python Modules Tutorial\\pokemon_data.xlsx')\n"
   ]
  },
  {
   "cell_type": "code",
   "execution_count": null,
   "metadata": {},
   "outputs": [],
   "source": [
    "print(df_xlsx)"
   ]
  },
  {
   "cell_type": "code",
   "execution_count": null,
   "metadata": {},
   "outputs": [],
   "source": [
    "print(df_xlsx.head(5))"
   ]
  },
  {
   "cell_type": "code",
   "execution_count": null,
   "metadata": {},
   "outputs": [],
   "source": [
    "print(df_xlsx.tail(5))"
   ]
  },
  {
   "attachments": {},
   "cell_type": "markdown",
   "metadata": {},
   "source": [
    "> If it was a text file"
   ]
  },
  {
   "cell_type": "code",
   "execution_count": null,
   "metadata": {},
   "outputs": [],
   "source": [
    "df_txt = pd.read_csv(r'C:\\Users\\rayir\\Desktop\\computer programs\\Python Modules Tutorial\\pokemon_data.txt',delimiter='\\t')"
   ]
  },
  {
   "cell_type": "code",
   "execution_count": null,
   "metadata": {},
   "outputs": [],
   "source": [
    "print(df_txt)"
   ]
  },
  {
   "cell_type": "code",
   "execution_count": null,
   "metadata": {},
   "outputs": [],
   "source": [
    "print(df_txt.head(5))"
   ]
  },
  {
   "cell_type": "code",
   "execution_count": null,
   "metadata": {},
   "outputs": [],
   "source": [
    "print(df_txt.tail(5))"
   ]
  },
  {
   "attachments": {},
   "cell_type": "markdown",
   "metadata": {},
   "source": [
    "#### Reading data into pandas"
   ]
  },
  {
   "cell_type": "code",
   "execution_count": null,
   "metadata": {},
   "outputs": [],
   "source": [
    "# read headers\n",
    "print(df.columns)"
   ]
  },
  {
   "cell_type": "code",
   "execution_count": null,
   "metadata": {},
   "outputs": [],
   "source": [
    "# read each column\n",
    "print(df['Name'][0:5])\n",
    "# can also do above thing like\n",
    "# print(df.Name)"
   ]
  },
  {
   "cell_type": "code",
   "execution_count": null,
   "metadata": {},
   "outputs": [],
   "source": [
    "# IF YOU WANT MULTIPLE COLUMNS\n",
    "print(df[['Name','Type 1','HP']])"
   ]
  },
  {
   "cell_type": "code",
   "execution_count": null,
   "metadata": {},
   "outputs": [],
   "source": [
    "# read each row\n",
    "print(df.head(4))"
   ]
  },
  {
   "cell_type": "code",
   "execution_count": null,
   "metadata": {},
   "outputs": [],
   "source": [
    "print(df.iloc[0:4])"
   ]
  },
  {
   "cell_type": "code",
   "execution_count": null,
   "metadata": {},
   "outputs": [],
   "source": [
    "# read a specific location(R,C)\n",
    "# suppose want to do from venusaur which is in 2nd row and 1st column(numbering starts from 0).\n",
    "print(df.iloc[2,1])"
   ]
  },
  {
   "cell_type": "code",
   "execution_count": null,
   "metadata": {},
   "outputs": [],
   "source": [
    "# Iterate Through Each Row\n"
   ]
  }
 ],
 "metadata": {
  "kernelspec": {
   "display_name": "Python 3",
   "language": "python",
   "name": "python3"
  },
  "language_info": {
   "codemirror_mode": {
    "name": "ipython",
    "version": 3
   },
   "file_extension": ".py",
   "mimetype": "text/x-python",
   "name": "python",
   "nbconvert_exporter": "python",
   "pygments_lexer": "ipython3",
   "version": "3.12.2"
  },
  "orig_nbformat": 4,
  "vscode": {
   "interpreter": {
    "hash": "369f2c481f4da34e4445cda3fffd2e751bd1c4d706f27375911949ba6bb62e1c"
   }
  }
 },
 "nbformat": 4,
 "nbformat_minor": 2
}
