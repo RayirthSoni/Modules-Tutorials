{
 "cells": [
  {
   "cell_type": "markdown",
   "metadata": {},
   "source": [
    "# title\n",
    "## major heading\n",
    "### sub heading\n",
    "#### 4th level sub heading"
   ]
  },
  {
   "cell_type": "markdown",
   "metadata": {},
   "source": [
    "__bold__<br>\n",
    "_italic_<br>\n",
    "$ + $<br>\n",
    "$ - $<br>\n",
    "$ mathematicalsymbols $<br>\n",
    "`monospace text`<br>\n",
    "<font color='red'> this is red color</font><br>\n",
    "<font color='blue'> this is blue color </font>"
   ]
  },
  {
   "cell_type": "markdown",
   "metadata": {},
   "source": [
    "below is indent\n",
    "> indent 1<br>\n",
    "> indent 2<br>"
   ]
  },
  {
   "cell_type": "markdown",
   "metadata": {},
   "source": [
    "bullet\n",
    "- 1\n",
    "- 2"
   ]
  },
  {
   "cell_type": "markdown",
   "metadata": {},
   "source": [
    "1. sa\n",
    "2. ss\n"
   ]
  },
  {
   "cell_type": "markdown",
   "metadata": {},
   "source": [
    "images can also be dont via imgsrc like in html\n",
    "***\n",
    "also can do horizontal line using 3 astersik like done above"
   ]
  }
 ],
 "metadata": {
  "kernelspec": {
   "display_name": "Python 3.10.4 64-bit",
   "language": "python",
   "name": "python3"
  },
  "language_info": {
   "name": "python",
   "version": "3.10.4"
  },
  "orig_nbformat": 4,
  "vscode": {
   "interpreter": {
    "hash": "369f2c481f4da34e4445cda3fffd2e751bd1c4d706f27375911949ba6bb62e1c"
   }
  }
 },
 "nbformat": 4,
 "nbformat_minor": 2
}
